{
 "cells": [
  {
   "cell_type": "code",
   "execution_count": 1,
   "metadata": {
    "colab": {
     "base_uri": "https://localhost:8080/",
     "height": 90
    },
    "id": "l0IHn9wx054F",
    "outputId": "8bd5d83e-ac36-4b79-9056-92c6c7631fba"
   },
   "outputs": [
    {
     "data": {
      "text/plain": [
       "'tensorflow: Machine learning library.\\nmatplotlib.pyplot: Plotting/visualization tool.\\npandas: Data manipulation library.\\nseaborn: Enhanced data visualization.'"
      ]
     },
     "execution_count": 1,
     "metadata": {},
     "output_type": "execute_result"
    }
   ],
   "source": [
    "import tensorflow as tf\n",
    "import matplotlib.pyplot as plt\n",
    "\n",
    "import pandas as pd\n",
    "import seaborn as sns\n",
    "\n",
    "'''tensorflow: Machine learning library.\n",
    "matplotlib.pyplot: Plotting/visualization tool.\n",
    "pandas: Data manipulation library.\n",
    "seaborn: Enhanced data visualization.'''"
   ]
  },
  {
   "cell_type": "code",
   "execution_count": 2,
   "metadata": {
    "colab": {
     "base_uri": "https://localhost:8080/",
     "height": 126
    },
    "id": "pB2tnPkL1-02",
    "outputId": "b73a290b-f4f1-4252-8468-e53a199fced8"
   },
   "outputs": [
    {
     "name": "stdout",
     "output_type": "stream",
     "text": [
      "Found 70296 files belonging to 38 classes.\n"
     ]
    }
   ],
   "source": [
    "#training image preprocessing\n",
    "training_set = tf.keras.utils.image_dataset_from_directory(\n",
    "    'train',\n",
    "    labels=\"inferred\",\n",
    "    label_mode=\"categorical\",\n",
    "    class_names=None,\n",
    "    color_mode=\"rgb\",\n",
    "    batch_size=32,\n",
    "    image_size=(128, 128),\n",
    "    shuffle=True,\n",
    "    seed=None,\n",
    "    validation_split=None,\n",
    "    subset=None,\n",
    "    interpolation=\"bilinear\",\n",
    "    follow_links=False,\n",
    "    crop_to_aspect_ratio=False\n",
    ")"
   ]
  },
  {
   "cell_type": "code",
   "execution_count": 3,
   "metadata": {},
   "outputs": [
    {
     "data": {
      "text/plain": [
       "'\\ndirectory: Folder with data; if labels are \"inferred\", it must contain class subfolders.\\nlabels: Options are \"inferred\" (from directory), None (no labels), or a custom label list matching files.\\nlabel_mode: Label encoding as \"int\", \"categorical\", \"binary\", or None.\\nclass_names: Custom class order (used with inferred labels).\\ncolor_mode: Image color format - \"grayscale\", \"rgb\", or \"rgba\".\\nbatch_size: Data batch size, default is 32; None yields individual samples.\\nimage_size: Resized image dimensions, defaults to (256, 256).\\nshuffle: Whether to shuffle data (default: True).\\nseed: Random seed for shuffling.\\nvalidation_split: Data fraction for validation.\\nsubset: \"training\", \"validation\", or \"both\" (used with validation_split).\\ninterpolation: Resizing method (e.g., \"bilinear\").\\nfollow_links: Follow symbolic links to subdirectories.\\ncrop_to_aspect_ratio/pad_to_aspect_ratio: Resize while preserving aspect ratio, with cropping or padding.\\ndata_format: \"channel_last\" or \"channel_first\".\\nverbose: Show class and file count (default: True).\\n'"
      ]
     },
     "execution_count": 3,
     "metadata": {},
     "output_type": "execute_result"
    }
   ],
   "source": [
    "'''\n",
    "directory: Folder with data; if labels are \"inferred\", it must contain class subfolders.\n",
    "labels: Options are \"inferred\" (from directory), None (no labels), or a custom label list matching files.\n",
    "label_mode: Label encoding as \"int\", \"categorical\", \"binary\", or None.\n",
    "class_names: Custom class order (used with inferred labels).\n",
    "color_mode: Image color format - \"grayscale\", \"rgb\", or \"rgba\".\n",
    "batch_size: Data batch size, default is 32; None yields individual samples.\n",
    "image_size: Resized image dimensions, defaults to (256, 256).\n",
    "shuffle: Whether to shuffle data (default: True).\n",
    "seed: Random seed for shuffling.\n",
    "validation_split: Data fraction for validation.\n",
    "subset: \"training\", \"validation\", or \"both\" (used with validation_split).\n",
    "interpolation: Resizing method (e.g., \"bilinear\").\n",
    "follow_links: Follow symbolic links to subdirectories.\n",
    "crop_to_aspect_ratio/pad_to_aspect_ratio: Resize while preserving aspect ratio, with cropping or padding.\n",
    "data_format: \"channel_last\" or \"channel_first\".\n",
    "verbose: Show class and file count (default: True).\n",
    "'''"
   ]
  },
  {
   "cell_type": "code",
   "execution_count": 4,
   "metadata": {},
   "outputs": [
    {
     "name": "stdout",
     "output_type": "stream",
     "text": [
      "Found 17572 files belonging to 38 classes.\n"
     ]
    }
   ],
   "source": [
    "#validation image preprocessing\n",
    "validation_set = tf.keras.utils.image_dataset_from_directory(\n",
    "    'valid',\n",
    "    labels=\"inferred\",\n",
    "    label_mode=\"categorical\",\n",
    "    class_names=None,\n",
    "    color_mode=\"rgb\",\n",
    "    batch_size=32,\n",
    "    image_size=(128, 128),\n",
    "    shuffle=True,\n",
    "    seed=None,\n",
    "    validation_split=None,\n",
    "    subset=None,\n",
    "    interpolation=\"bilinear\",\n",
    "    follow_links=False,\n",
    "    crop_to_aspect_ratio=False\n",
    ")\n"
   ]
  },
  {
   "cell_type": "code",
   "execution_count": 5,
   "metadata": {},
   "outputs": [
    {
     "data": {
      "text/plain": [
       "<BatchDataset element_spec=(TensorSpec(shape=(None, 128, 128, 3), dtype=tf.float32, name=None), TensorSpec(shape=(None, 38), dtype=tf.float32, name=None))>"
      ]
     },
     "execution_count": 5,
     "metadata": {},
     "output_type": "execute_result"
    }
   ],
   "source": [
    "training_set"
   ]
  },
  {
   "cell_type": "code",
   "execution_count": 6,
   "metadata": {},
   "outputs": [
    {
     "data": {
      "text/plain": [
       "<BatchDataset element_spec=(TensorSpec(shape=(None, 128, 128, 3), dtype=tf.float32, name=None), TensorSpec(shape=(None, 38), dtype=tf.float32, name=None))>"
      ]
     },
     "execution_count": 6,
     "metadata": {},
     "output_type": "execute_result"
    }
   ],
   "source": [
    "validation_set"
   ]
  },
  {
   "cell_type": "code",
   "execution_count": 7,
   "metadata": {},
   "outputs": [
    {
     "name": "stdout",
     "output_type": "stream",
     "text": [
      "['Apple___Apple_scab', 'Apple___Black_rot', 'Apple___Cedar_apple_rust', 'Apple___healthy', 'Blueberry___healthy', 'Cherry_(including_sour)___Powdery_mildew', 'Cherry_(including_sour)___healthy', 'Corn_(maize)___Cercospora_leaf_spot Gray_leaf_spot', 'Corn_(maize)___Common_rust_', 'Corn_(maize)___Northern_Leaf_Blight', 'Corn_(maize)___healthy', 'Grape___Black_rot', 'Grape___Esca_(Black_Measles)', 'Grape___Leaf_blight_(Isariopsis_Leaf_Spot)', 'Grape___healthy', 'Orange___Haunglongbing_(Citrus_greening)', 'Peach___Bacterial_spot', 'Peach___healthy', 'Pepper,_bell___Bacterial_spot', 'Pepper,_bell___healthy', 'Potato___Early_blight', 'Potato___Late_blight', 'Potato___healthy', 'Raspberry___healthy', 'Soybean___healthy', 'Squash___Powdery_mildew', 'Strawberry___Leaf_scorch', 'Strawberry___healthy', 'Tomato___Bacterial_spot', 'Tomato___Early_blight', 'Tomato___Late_blight', 'Tomato___Leaf_Mold', 'Tomato___Septoria_leaf_spot', 'Tomato___Spider_mites Two-spotted_spider_mite', 'Tomato___Target_Spot', 'Tomato___Tomato_Yellow_Leaf_Curl_Virus', 'Tomato___Tomato_mosaic_virus', 'Tomato___healthy']\n",
      "['Apple___Apple_scab', 'Apple___Black_rot', 'Apple___Cedar_apple_rust', 'Apple___healthy', 'Blueberry___healthy', 'Cherry_(including_sour)___Powdery_mildew', 'Cherry_(including_sour)___healthy', 'Corn_(maize)___Cercospora_leaf_spot Gray_leaf_spot', 'Corn_(maize)___Common_rust_', 'Corn_(maize)___Northern_Leaf_Blight', 'Corn_(maize)___healthy', 'Grape___Black_rot', 'Grape___Esca_(Black_Measles)', 'Grape___Leaf_blight_(Isariopsis_Leaf_Spot)', 'Grape___healthy', 'Orange___Haunglongbing_(Citrus_greening)', 'Peach___Bacterial_spot', 'Peach___healthy', 'Pepper,_bell___Bacterial_spot', 'Pepper,_bell___healthy', 'Potato___Early_blight', 'Potato___Late_blight', 'Potato___healthy', 'Raspberry___healthy', 'Soybean___healthy', 'Squash___Powdery_mildew', 'Strawberry___Leaf_scorch', 'Strawberry___healthy', 'Tomato___Bacterial_spot', 'Tomato___Early_blight', 'Tomato___Late_blight', 'Tomato___Leaf_Mold', 'Tomato___Septoria_leaf_spot', 'Tomato___Spider_mites Two-spotted_spider_mite', 'Tomato___Target_Spot', 'Tomato___Tomato_Yellow_Leaf_Curl_Virus', 'Tomato___Tomato_mosaic_virus', 'Tomato___healthy']\n"
     ]
    }
   ],
   "source": [
    "print(training_set.class_names)\n",
    "print(validation_set.class_names)"
   ]
  },
  {
   "cell_type": "code",
   "execution_count": 8,
   "metadata": {},
   "outputs": [
    {
     "name": "stdout",
     "output_type": "stream",
     "text": [
      "tf.Tensor(\n",
      "[[[[170.   160.   168.  ]\n",
      "   [163.5  153.5  161.5 ]\n",
      "   [187.   177.   185.  ]\n",
      "   ...\n",
      "   [145.5  137.5  148.5 ]\n",
      "   [166.   158.   169.  ]\n",
      "   [158.25 150.25 161.25]]\n",
      "\n",
      "  [[169.5  159.5  167.5 ]\n",
      "   [169.   159.   167.  ]\n",
      "   [156.75 146.75 154.75]\n",
      "   ...\n",
      "   [169.25 161.25 172.25]\n",
      "   [188.5  180.5  191.5 ]\n",
      "   [173.75 165.75 176.75]]\n",
      "\n",
      "  [[166.5  156.5  164.5 ]\n",
      "   [170.75 160.75 168.75]\n",
      "   [183.75 173.75 181.75]\n",
      "   ...\n",
      "   [159.25 151.25 162.25]\n",
      "   [188.75 180.75 191.75]\n",
      "   [167.   159.   170.  ]]\n",
      "\n",
      "  ...\n",
      "\n",
      "  [[128.   109.   115.  ]\n",
      "   [125.5  106.5  112.5 ]\n",
      "   [129.75 110.75 116.75]\n",
      "   ...\n",
      "   [133.5  122.5  130.5 ]\n",
      "   [112.75 101.75 109.75]\n",
      "   [112.   101.   109.  ]]\n",
      "\n",
      "  [[139.75 120.75 126.75]\n",
      "   [136.5  117.5  123.5 ]\n",
      "   [148.75 129.75 135.75]\n",
      "   ...\n",
      "   [ 95.25  84.25  92.25]\n",
      "   [118.25 107.25 115.25]\n",
      "   [124.25 113.25 121.25]]\n",
      "\n",
      "  [[113.    94.   100.  ]\n",
      "   [122.5  103.5  109.5 ]\n",
      "   [126.   107.   113.  ]\n",
      "   ...\n",
      "   [106.75  95.75 103.75]\n",
      "   [120.75 109.75 117.75]\n",
      "   [105.    94.   102.  ]]]\n",
      "\n",
      "\n",
      " [[[ 53.25  66.25  38.25]\n",
      "   [ 51.75  64.75  36.75]\n",
      "   [ 59.    72.    42.  ]\n",
      "   ...\n",
      "   [130.25 131.25 149.25]\n",
      "   [127.75 128.75 146.75]\n",
      "   [129.5  130.5  148.5 ]]\n",
      "\n",
      "  [[ 52.5   65.5   37.5 ]\n",
      "   [ 58.75  71.75  43.75]\n",
      "   [ 74.25  87.25  57.25]\n",
      "   ...\n",
      "   [128.5  129.5  147.5 ]\n",
      "   [130.75 131.75 149.75]\n",
      "   [128.   129.   147.  ]]\n",
      "\n",
      "  [[ 56.5   69.5   39.5 ]\n",
      "   [ 70.5   83.5   53.5 ]\n",
      "   [ 65.25  78.25  48.25]\n",
      "   ...\n",
      "   [134.5  135.5  153.5 ]\n",
      "   [133.25 134.25 152.25]\n",
      "   [122.5  123.5  141.5 ]]\n",
      "\n",
      "  ...\n",
      "\n",
      "  [[ 68.75  71.75  90.75]\n",
      "   [ 71.25  74.25  93.25]\n",
      "   [ 74.5   77.5   96.5 ]\n",
      "   ...\n",
      "   [112.75 114.75 137.75]\n",
      "   [117.25 119.25 142.25]\n",
      "   [124.   126.   149.  ]]\n",
      "\n",
      "  [[ 78.5   81.5  100.5 ]\n",
      "   [ 79.    82.   101.  ]\n",
      "   [ 67.5   70.5   89.5 ]\n",
      "   ...\n",
      "   [113.25 115.25 138.25]\n",
      "   [113.25 115.25 138.25]\n",
      "   [115.75 117.75 140.75]]\n",
      "\n",
      "  [[ 71.25  74.25  93.25]\n",
      "   [ 73.5   76.5   95.5 ]\n",
      "   [ 69.5   72.5   91.5 ]\n",
      "   ...\n",
      "   [113.25 115.25 138.25]\n",
      "   [115.   117.   140.  ]\n",
      "   [115.75 117.75 140.75]]]\n",
      "\n",
      "\n",
      " [[[111.25 100.25 114.25]\n",
      "   [110.    99.   113.  ]\n",
      "   [114.25 103.25 117.25]\n",
      "   ...\n",
      "   [175.25 164.25 181.25]\n",
      "   [177.25 166.25 183.25]\n",
      "   [162.25 151.25 168.25]]\n",
      "\n",
      "  [[114.   103.   117.  ]\n",
      "   [108.25  97.25 111.25]\n",
      "   [108.75  97.75 111.75]\n",
      "   ...\n",
      "   [176.   165.   182.  ]\n",
      "   [176.5  165.5  182.5 ]\n",
      "   [179.5  168.5  185.5 ]]\n",
      "\n",
      "  [[113.   102.   116.  ]\n",
      "   [110.25  99.25 113.25]\n",
      "   [114.   103.   117.  ]\n",
      "   ...\n",
      "   [174.   163.   180.  ]\n",
      "   [177.   166.   183.  ]\n",
      "   [187.5  176.5  193.5 ]]\n",
      "\n",
      "  ...\n",
      "\n",
      "  [[ 96.75  91.75 114.75]\n",
      "   [ 99.    94.   117.  ]\n",
      "   [104.75  99.75 122.75]\n",
      "   ...\n",
      "   [161.75 151.75 176.75]\n",
      "   [164.5  154.5  179.5 ]\n",
      "   [160.75 150.75 175.75]]\n",
      "\n",
      "  [[ 99.5   94.5  117.5 ]\n",
      "   [107.5  102.5  125.5 ]\n",
      "   [111.5  106.5  129.5 ]\n",
      "   ...\n",
      "   [153.5  143.5  168.5 ]\n",
      "   [158.5  148.5  173.5 ]\n",
      "   [157.5  147.5  172.5 ]]\n",
      "\n",
      "  [[ 99.5   94.5  117.5 ]\n",
      "   [106.25 101.25 124.25]\n",
      "   [104.5   99.5  122.5 ]\n",
      "   ...\n",
      "   [155.   145.   170.  ]\n",
      "   [162.75 152.75 177.75]\n",
      "   [154.   144.   169.  ]]]\n",
      "\n",
      "\n",
      " ...\n",
      "\n",
      "\n",
      " [[[159.5  154.5  160.5 ]\n",
      "   [176.75 171.75 177.75]\n",
      "   [174.   169.   175.  ]\n",
      "   ...\n",
      "   [188.25 183.25 189.25]\n",
      "   [197.   192.   198.  ]\n",
      "   [196.   191.   197.  ]]\n",
      "\n",
      "  [[159.75 154.75 160.75]\n",
      "   [157.   152.   158.  ]\n",
      "   [148.25 143.25 149.25]\n",
      "   ...\n",
      "   [199.75 194.75 200.75]\n",
      "   [197.75 192.75 198.75]\n",
      "   [201.25 196.25 202.25]]\n",
      "\n",
      "  [[153.5  148.5  154.5 ]\n",
      "   [168.75 163.75 169.75]\n",
      "   [179.5  174.5  180.5 ]\n",
      "   ...\n",
      "   [196.75 191.75 197.75]\n",
      "   [201.75 196.75 202.75]\n",
      "   [191.   186.   192.  ]]\n",
      "\n",
      "  ...\n",
      "\n",
      "  [[158.5  153.5  160.5 ]\n",
      "   [139.75 134.75 141.75]\n",
      "   [161.   156.   163.  ]\n",
      "   ...\n",
      "   [180.25 174.25 184.25]\n",
      "   [182.5  176.5  186.5 ]\n",
      "   [174.5  168.5  178.5 ]]\n",
      "\n",
      "  [[162.5  157.5  164.5 ]\n",
      "   [158.   153.   160.  ]\n",
      "   [145.75 140.75 147.75]\n",
      "   ...\n",
      "   [182.5  176.5  186.5 ]\n",
      "   [182.   176.   186.  ]\n",
      "   [178.   172.   182.  ]]\n",
      "\n",
      "  [[153.25 148.25 155.25]\n",
      "   [156.   151.   158.  ]\n",
      "   [150.25 145.25 152.25]\n",
      "   ...\n",
      "   [181.25 175.25 185.25]\n",
      "   [169.   163.   173.  ]\n",
      "   [173.25 167.25 177.25]]]\n",
      "\n",
      "\n",
      " [[[187.   181.5  194.5 ]\n",
      "   [192.5  188.5  204.5 ]\n",
      "   [192.75 187.75 203.25]\n",
      "   ...\n",
      "   [131.5  106.   117.  ]\n",
      "   [132.25 102.5  106.75]\n",
      "   [136.   101.5  104.  ]]\n",
      "\n",
      "  [[205.75 203.   215.25]\n",
      "   [205.   203.25 218.5 ]\n",
      "   [201.25 198.25 213.5 ]\n",
      "   ...\n",
      "   [129.25 104.   115.  ]\n",
      "   [124.5   94.   100.5 ]\n",
      "   [132.25  98.5  100.75]]\n",
      "\n",
      "  [[206.   208.25 218.75]\n",
      "   [202.75 205.5  219.25]\n",
      "   [204.   204.75 218.5 ]\n",
      "   ...\n",
      "   [122.75  99.   108.75]\n",
      "   [133.25 104.   110.  ]\n",
      "   [132.25 100.5  104.  ]]\n",
      "\n",
      "  ...\n",
      "\n",
      "  [[170.   167.   178.  ]\n",
      "   [170.   167.   178.  ]\n",
      "   [168.5  165.5  176.5 ]\n",
      "   ...\n",
      "   [ 96.5   90.5  100.5 ]\n",
      "   [ 95.25  89.25  99.25]\n",
      "   [ 97.    91.   101.  ]]\n",
      "\n",
      "  [[169.75 166.75 177.75]\n",
      "   [169.5  166.5  177.5 ]\n",
      "   [168.   165.   176.  ]\n",
      "   ...\n",
      "   [ 96.75  90.75 100.75]\n",
      "   [ 96.5   90.5  100.5 ]\n",
      "   [ 99.25  93.25 103.25]]\n",
      "\n",
      "  [[164.75 161.75 172.75]\n",
      "   [165.75 162.75 173.75]\n",
      "   [165.75 162.75 173.75]\n",
      "   ...\n",
      "   [ 97.25  91.25 101.25]\n",
      "   [ 99.5   93.5  103.5 ]\n",
      "   [100.    94.   104.  ]]]\n",
      "\n",
      "\n",
      " [[[211.   205.   207.  ]\n",
      "   [209.   203.   205.  ]\n",
      "   [203.5  197.5  199.5 ]\n",
      "   ...\n",
      "   [193.75 184.75 187.75]\n",
      "   [192.25 183.25 186.25]\n",
      "   [189.75 180.75 183.75]]\n",
      "\n",
      "  [[210.   204.   206.  ]\n",
      "   [212.5  206.5  208.5 ]\n",
      "   [205.5  199.5  201.5 ]\n",
      "   ...\n",
      "   [192.   183.   186.  ]\n",
      "   [192.   183.   186.  ]\n",
      "   [190.75 181.75 184.75]]\n",
      "\n",
      "  [[205.5  199.5  201.5 ]\n",
      "   [215.   209.   211.  ]\n",
      "   [213.25 207.25 209.25]\n",
      "   ...\n",
      "   [196.75 187.75 190.75]\n",
      "   [198.25 189.25 192.25]\n",
      "   [193.   184.   187.  ]]\n",
      "\n",
      "  ...\n",
      "\n",
      "  [[154.25 145.25 150.25]\n",
      "   [145.   136.   141.  ]\n",
      "   [139.75 130.75 135.75]\n",
      "   ...\n",
      "   [152.75 142.75 143.75]\n",
      "   [159.   148.   152.  ]\n",
      "   [161.5  150.5  154.5 ]]\n",
      "\n",
      "  [[158.25 149.25 154.25]\n",
      "   [156.   147.   152.  ]\n",
      "   [150.5  141.5  146.5 ]\n",
      "   ...\n",
      "   [150.25 140.25 141.25]\n",
      "   [152.5  141.5  145.5 ]\n",
      "   [150.75 139.75 143.75]]\n",
      "\n",
      "  [[159.25 150.25 155.25]\n",
      "   [153.5  144.5  149.5 ]\n",
      "   [154.25 145.25 150.25]\n",
      "   ...\n",
      "   [152.5  142.5  143.5 ]\n",
      "   [151.   140.   144.  ]\n",
      "   [146.   135.   139.  ]]]], shape=(32, 128, 128, 3), dtype=float32) (32, 128, 128, 3)\n",
      "tf.Tensor(\n",
      "[[0. 0. 0. ... 0. 0. 0.]\n",
      " [0. 0. 0. ... 0. 0. 0.]\n",
      " [0. 0. 0. ... 0. 0. 0.]\n",
      " ...\n",
      " [0. 0. 0. ... 0. 0. 0.]\n",
      " [0. 0. 0. ... 0. 0. 0.]\n",
      " [0. 0. 0. ... 0. 0. 0.]], shape=(32, 38), dtype=float32) (32, 38)\n"
     ]
    }
   ],
   "source": [
    "for x,y in training_set:\n",
    "    print(x, x.shape) #x content\n",
    "    print(y, y.shape) #y content\n",
    "    break"
   ]
  },
  {
   "cell_type": "code",
   "execution_count": 9,
   "metadata": {},
   "outputs": [
    {
     "data": {
      "text/plain": [
       "'\\nTo avoid Overshooding\\n1. Choose small learning rate default 0.001 we are taking 0.0001\\n2. There may be chance of Underfitting so increase number of neurons 0.0001\\n3. Add more convolution layer extract more feature from images there may be possibly that model unable \\nto capture relevent feature or model is confusing due to lack of feature so feed with more feature.\\n'"
      ]
     },
     "execution_count": 9,
     "metadata": {},
     "output_type": "execute_result"
    }
   ],
   "source": [
    "'''\n",
    "To avoid Overshooding\n",
    "1. Choose small learning rate default 0.001 we are taking 0.0001\n",
    "2. There may be chance of Underfitting so increase number of neurons 0.0001\n",
    "3. Add more convolution layer extract more feature from images there may be possibly that model unable \n",
    "to capture relevent feature or model is confusing due to lack of feature so feed with more feature.\n",
    "'''"
   ]
  },
  {
   "cell_type": "code",
   "execution_count": 10,
   "metadata": {},
   "outputs": [],
   "source": [
    "##Building Model"
   ]
  },
  {
   "cell_type": "code",
   "execution_count": 11,
   "metadata": {},
   "outputs": [],
   "source": [
    "cnn = tf.keras.Sequential() # allows you to build a neural network by stacking layers sequentially, one after another"
   ]
  },
  {
   "cell_type": "code",
   "execution_count": 12,
   "metadata": {},
   "outputs": [],
   "source": [
    "##Building Convolutional Layer1\n",
    "cnn.add(tf.keras.layers.Input(shape=[128, 128, 3]))\n",
    "\n",
    "# Add the rest of the layers\n",
    "cnn.add(tf.keras.layers.Conv2D(filters=32, kernel_size=3, padding='same', activation='relu'))\n",
    "cnn.add(tf.keras.layers.Conv2D(filters=32, kernel_size=3, activation='relu'))\n",
    "cnn.add(tf.keras.layers.MaxPool2D(pool_size=2, strides=2))"
   ]
  },
  {
   "cell_type": "code",
   "execution_count": 13,
   "metadata": {},
   "outputs": [],
   "source": [
    "cnn.add(tf.keras.layers.Conv2D(filters=64,kernel_size=3,padding='same',activation='relu'))\n",
    "cnn.add(tf.keras.layers.Conv2D(filters=64,kernel_size=3,activation='relu'))\n",
    "cnn.add(tf.keras.layers.MaxPool2D(pool_size=2,strides=2))"
   ]
  },
  {
   "cell_type": "code",
   "execution_count": 14,
   "metadata": {},
   "outputs": [],
   "source": [
    "cnn.add(tf.keras.layers.Conv2D(filters=128,kernel_size=3,padding='same',activation='relu'))\n",
    "cnn.add(tf.keras.layers.Conv2D(filters=128,kernel_size=3,activation='relu'))\n",
    "cnn.add(tf.keras.layers.MaxPool2D(pool_size=2,strides=2))"
   ]
  },
  {
   "cell_type": "code",
   "execution_count": 15,
   "metadata": {},
   "outputs": [],
   "source": [
    "cnn.add(tf.keras.layers.Conv2D(filters=256,kernel_size=3,padding='same',activation='relu'))\n",
    "cnn.add(tf.keras.layers.Conv2D(filters=256,kernel_size=3,activation='relu'))\n",
    "cnn.add(tf.keras.layers.MaxPool2D(pool_size=2,strides=2))"
   ]
  },
  {
   "cell_type": "code",
   "execution_count": 16,
   "metadata": {},
   "outputs": [],
   "source": [
    "cnn.add(tf.keras.layers.Conv2D(filters=512,kernel_size=3,padding='same',activation='relu'))\n",
    "cnn.add(tf.keras.layers.Conv2D(filters=512,kernel_size=3,activation='relu'))\n",
    "cnn.add(tf.keras.layers.MaxPool2D(pool_size=2,strides=2))"
   ]
  },
  {
   "cell_type": "code",
   "execution_count": 17,
   "metadata": {},
   "outputs": [],
   "source": [
    "cnn.add(tf.keras.layers.Dropout(0.25)) #cut layers 25% for reduse overfitting"
   ]
  },
  {
   "cell_type": "code",
   "execution_count": 18,
   "metadata": {},
   "outputs": [],
   "source": [
    "cnn.add(tf.keras.layers.Flatten()) #2D - 1D"
   ]
  },
  {
   "cell_type": "code",
   "execution_count": 19,
   "metadata": {},
   "outputs": [],
   "source": [
    "cnn.add(tf.keras.layers.Dense(units=1500,activation='relu'))"
   ]
  },
  {
   "cell_type": "code",
   "execution_count": 20,
   "metadata": {},
   "outputs": [],
   "source": [
    "cnn.add(tf.keras.layers.Dropout(0.4))"
   ]
  },
  {
   "cell_type": "code",
   "execution_count": 21,
   "metadata": {},
   "outputs": [],
   "source": [
    "#output layer\n",
    "cnn.add(tf.keras.layers.Dense(units=38,activation='softmax'))"
   ]
  },
  {
   "cell_type": "code",
   "execution_count": 22,
   "metadata": {},
   "outputs": [],
   "source": [
    "#compiling model\n",
    "cnn.compile(optimizer=tf.keras.optimizers.Adam(\n",
    "    learning_rate=0.0001),loss='categorical_crossentropy',metrics=['accuracy'])\n",
    "\n",
    "#Adam is an adaptive learning rate optimization algorithm that adjusts the learning rate during training for efficient convergence. It’s widely used due to its speed and performance.\n",
    "#compares the model’s output probabilities with the true labels and computes the error.\n",
    "#calculating the percentage of correct predictions."
   ]
  },
  {
   "cell_type": "code",
   "execution_count": 23,
   "metadata": {
    "scrolled": true
   },
   "outputs": [
    {
     "name": "stdout",
     "output_type": "stream",
     "text": [
      "Model: \"sequential\"\n",
      "_________________________________________________________________\n",
      " Layer (type)                Output Shape              Param #   \n",
      "=================================================================\n",
      " conv2d (Conv2D)             (None, 128, 128, 32)      896       \n",
      "                                                                 \n",
      " conv2d_1 (Conv2D)           (None, 126, 126, 32)      9248      \n",
      "                                                                 \n",
      " max_pooling2d (MaxPooling2D  (None, 63, 63, 32)       0         \n",
      " )                                                               \n",
      "                                                                 \n",
      " conv2d_2 (Conv2D)           (None, 63, 63, 64)        18496     \n",
      "                                                                 \n",
      " conv2d_3 (Conv2D)           (None, 61, 61, 64)        36928     \n",
      "                                                                 \n",
      " max_pooling2d_1 (MaxPooling  (None, 30, 30, 64)       0         \n",
      " 2D)                                                             \n",
      "                                                                 \n",
      " conv2d_4 (Conv2D)           (None, 30, 30, 128)       73856     \n",
      "                                                                 \n",
      " conv2d_5 (Conv2D)           (None, 28, 28, 128)       147584    \n",
      "                                                                 \n",
      " max_pooling2d_2 (MaxPooling  (None, 14, 14, 128)      0         \n",
      " 2D)                                                             \n",
      "                                                                 \n",
      " conv2d_6 (Conv2D)           (None, 14, 14, 256)       295168    \n",
      "                                                                 \n",
      " conv2d_7 (Conv2D)           (None, 12, 12, 256)       590080    \n",
      "                                                                 \n",
      " max_pooling2d_3 (MaxPooling  (None, 6, 6, 256)        0         \n",
      " 2D)                                                             \n",
      "                                                                 \n",
      " conv2d_8 (Conv2D)           (None, 6, 6, 512)         1180160   \n",
      "                                                                 \n",
      " conv2d_9 (Conv2D)           (None, 4, 4, 512)         2359808   \n",
      "                                                                 \n",
      " max_pooling2d_4 (MaxPooling  (None, 2, 2, 512)        0         \n",
      " 2D)                                                             \n",
      "                                                                 \n",
      " dropout (Dropout)           (None, 2, 2, 512)         0         \n",
      "                                                                 \n",
      " flatten (Flatten)           (None, 2048)              0         \n",
      "                                                                 \n",
      " dense (Dense)               (None, 1500)              3073500   \n",
      "                                                                 \n",
      " dropout_1 (Dropout)         (None, 1500)              0         \n",
      "                                                                 \n",
      " dense_1 (Dense)             (None, 38)                57038     \n",
      "                                                                 \n",
      "=================================================================\n",
      "Total params: 7,842,762\n",
      "Trainable params: 7,842,762\n",
      "Non-trainable params: 0\n",
      "_________________________________________________________________\n"
     ]
    }
   ],
   "source": [
    "cnn.summary()"
   ]
  },
  {
   "cell_type": "code",
   "execution_count": 24,
   "metadata": {},
   "outputs": [
    {
     "name": "stdout",
     "output_type": "stream",
     "text": [
      "Epoch 1/10\n",
      "2197/2197 [==============================] - 180s 74ms/step - loss: 1.2895 - accuracy: 0.6187 - val_loss: 0.6529 - val_accuracy: 0.7945\n",
      "Epoch 2/10\n",
      "2197/2197 [==============================] - 163s 74ms/step - loss: 0.4136 - accuracy: 0.8688 - val_loss: 0.2808 - val_accuracy: 0.9096\n",
      "Epoch 3/10\n",
      "2197/2197 [==============================] - 166s 76ms/step - loss: 0.2431 - accuracy: 0.9229 - val_loss: 0.1842 - val_accuracy: 0.9409\n",
      "Epoch 4/10\n",
      "2197/2197 [==============================] - 167s 76ms/step - loss: 0.1658 - accuracy: 0.9456 - val_loss: 0.1803 - val_accuracy: 0.9423\n",
      "Epoch 5/10\n",
      "2197/2197 [==============================] - 167s 76ms/step - loss: 0.1203 - accuracy: 0.9604 - val_loss: 0.1766 - val_accuracy: 0.9442\n",
      "Epoch 6/10\n",
      "2197/2197 [==============================] - 168s 76ms/step - loss: 0.0977 - accuracy: 0.9687 - val_loss: 0.1501 - val_accuracy: 0.9522\n",
      "Epoch 7/10\n",
      "2197/2197 [==============================] - 167s 76ms/step - loss: 0.0813 - accuracy: 0.9742 - val_loss: 0.1368 - val_accuracy: 0.9601\n",
      "Epoch 8/10\n",
      "2197/2197 [==============================] - 168s 76ms/step - loss: 0.0672 - accuracy: 0.9777 - val_loss: 0.1383 - val_accuracy: 0.9582\n",
      "Epoch 9/10\n",
      "2197/2197 [==============================] - 168s 76ms/step - loss: 0.0594 - accuracy: 0.9810 - val_loss: 0.1179 - val_accuracy: 0.9637\n",
      "Epoch 10/10\n",
      "2197/2197 [==============================] - 168s 77ms/step - loss: 0.0502 - accuracy: 0.9842 - val_loss: 0.0888 - val_accuracy: 0.9730\n"
     ]
    }
   ],
   "source": [
    "#model training\n",
    "training_history = cnn.fit(x=training_set,validation_data=validation_set,epochs=10)"
   ]
  },
  {
   "cell_type": "code",
   "execution_count": 25,
   "metadata": {
    "slideshow": {
     "slide_type": ""
    },
    "tags": []
   },
   "outputs": [],
   "source": [
    "#model evaluvation"
   ]
  },
  {
   "cell_type": "code",
   "execution_count": 26,
   "metadata": {},
   "outputs": [
    {
     "name": "stdout",
     "output_type": "stream",
     "text": [
      "2197/2197 [==============================] - 50s 22ms/step - loss: 0.0178 - accuracy: 0.9945\n"
     ]
    }
   ],
   "source": [
    "train_loss,train_acc = cnn.evaluate(training_set)"
   ]
  },
  {
   "cell_type": "code",
   "execution_count": 27,
   "metadata": {},
   "outputs": [
    {
     "name": "stdout",
     "output_type": "stream",
     "text": [
      "0.017817599698901176 0.9944804906845093\n"
     ]
    }
   ],
   "source": [
    "print(train_loss,train_acc)"
   ]
  },
  {
   "cell_type": "code",
   "execution_count": 28,
   "metadata": {},
   "outputs": [
    {
     "name": "stdout",
     "output_type": "stream",
     "text": [
      "550/550 [==============================] - 12s 22ms/step - loss: 0.0888 - accuracy: 0.9730\n"
     ]
    }
   ],
   "source": [
    "val_loss,val_acc = cnn.evaluate(validation_set)"
   ]
  },
  {
   "cell_type": "code",
   "execution_count": 29,
   "metadata": {},
   "outputs": [
    {
     "name": "stdout",
     "output_type": "stream",
     "text": [
      "0.08875107765197754 0.9730252623558044\n"
     ]
    }
   ],
   "source": [
    "print(val_loss,val_acc)"
   ]
  },
  {
   "cell_type": "code",
   "execution_count": 30,
   "metadata": {},
   "outputs": [],
   "source": [
    "cnn.save(\"trained_model.keras\")"
   ]
  },
  {
   "cell_type": "code",
   "execution_count": 31,
   "metadata": {},
   "outputs": [
    {
     "data": {
      "text/plain": [
       "{'loss': [1.2894928455352783,\n",
       "  0.4135521650314331,\n",
       "  0.24308718740940094,\n",
       "  0.16577808558940887,\n",
       "  0.12032244354486465,\n",
       "  0.09771398454904556,\n",
       "  0.08129442483186722,\n",
       "  0.06717484444379807,\n",
       "  0.05942832678556442,\n",
       "  0.050182193517684937],\n",
       " 'accuracy': [0.6186553835868835,\n",
       "  0.8688119053840637,\n",
       "  0.9229258894920349,\n",
       "  0.9456441402435303,\n",
       "  0.9603675603866577,\n",
       "  0.9686895608901978,\n",
       "  0.9741663932800293,\n",
       "  0.9776800870895386,\n",
       "  0.9810373187065125,\n",
       "  0.9841954112052917],\n",
       " 'val_loss': [0.6529271602630615,\n",
       "  0.28077811002731323,\n",
       "  0.18423014879226685,\n",
       "  0.1803123950958252,\n",
       "  0.17657217383384705,\n",
       "  0.15009747445583344,\n",
       "  0.13676658272743225,\n",
       "  0.13826678693294525,\n",
       "  0.11793558299541473,\n",
       "  0.08875110745429993],\n",
       " 'val_accuracy': [0.7945026159286499,\n",
       "  0.9096289277076721,\n",
       "  0.9409287571907043,\n",
       "  0.9422945380210876,\n",
       "  0.9441725611686707,\n",
       "  0.9521966576576233,\n",
       "  0.9601069688796997,\n",
       "  0.958172082901001,\n",
       "  0.9636922478675842,\n",
       "  0.9730252623558044]}"
      ]
     },
     "execution_count": 31,
     "metadata": {},
     "output_type": "execute_result"
    }
   ],
   "source": [
    "training_history.history"
   ]
  },
  {
   "cell_type": "code",
   "execution_count": 32,
   "metadata": {},
   "outputs": [],
   "source": [
    "#Recording History\n",
    "import json\n",
    "with open(\"training_hist.json\",\"w\") as f:\n",
    "    json.dump(training_history.history , f)"
   ]
  },
  {
   "cell_type": "code",
   "execution_count": 33,
   "metadata": {},
   "outputs": [
    {
     "data": {
      "image/png": "[encoded data removed]",
      "text/plain": [
       "<Figure size 640x480 with 1 Axes>"
      ]
     },
     "metadata": {},
     "output_type": "display_data"
    }
   ],
   "source": [
    "epochs = [i for i in range(1,11)]\n",
    "plt.plot(epochs,training_history.history['accuracy'],color='red',label='Training Accuracy')\n",
    "plt.plot(epochs,training_history.history['val_accuracy'],color='blue',label='validation Accuracy')\n",
    "plt.xlabel(\"No of Epochs\")\n",
    "plt.ylabel(\"Result\")\n",
    "plt.title(\"Visulization\")\n",
    "plt.legend()\n",
    "plt.show()"
   ]
  },
  {
   "cell_type": "code",
   "execution_count": null,
   "metadata": {},
   "outputs": [],
   "source": []
  },
  {
   "cell_type": "code",
   "execution_count": null,
   "metadata": {},
   "outputs": [],
   "source": []
  },
  {
   "cell_type": "code",
   "execution_count": null,
   "metadata": {},
   "outputs": [],
   "source": []
  }
 ],
 "metadata": {
  "colab": {
   "provenance": []
  },
  "kernelspec": {
   "display_name": "Python 3 (ipykernel)",
   "language": "python",
   "name": "python3"
  },
  "language_info": {
   "codemirror_mode": {
    "name": "ipython",
    "version": 3
   },
   "file_extension": ".py",
   "mimetype": "text/x-python",
   "name": "python",
   "nbconvert_exporter": "python",
   "pygments_lexer": "ipython3",
   "version": "3.9.20"
  },
  "widgets": {
   "application/vnd.jupyter.widget-state+json": {
    "state": {},
    "version_major": 2,
    "version_minor": 0
   }
  }
 },
 "nbformat": 4,
 "nbformat_minor": 4
}
