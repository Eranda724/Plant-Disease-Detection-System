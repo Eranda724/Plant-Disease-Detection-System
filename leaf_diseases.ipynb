{
 "cells": [
  {
   "cell_type": "code",
   "execution_count": 1,
   "metadata": {
    "colab": {
     "base_uri": "https://localhost:8080/",
     "height": 90
    },
    "id": "l0IHn9wx054F",
    "outputId": "8bd5d83e-ac36-4b79-9056-92c6c7631fba"
   },
   "outputs": [
    {
     "data": {
      "text/plain": [
       "'tensorflow: Machine learning library.\\nmatplotlib.pyplot: Plotting/visualization tool.\\npandas: Data manipulation library.\\nseaborn: Enhanced data visualization.'"
      ]
     },
     "execution_count": 1,
     "metadata": {},
     "output_type": "execute_result"
    }
   ],
   "source": [
    "import tensorflow as tf\n",
    "import matplotlib.pyplot as plt\n",
    "\n",
    "import pandas as pd\n",
    "import seaborn as sns\n",
    "\n",
    "'''tensorflow: Machine learning library.\n",
    "matplotlib.pyplot: Plotting/visualization tool.\n",
    "pandas: Data manipulation library.\n",
    "seaborn: Enhanced data visualization.'''"
   ]
  },
  {
   "cell_type": "code",
   "execution_count": 2,
   "metadata": {
    "colab": {
     "base_uri": "https://localhost:8080/",
     "height": 126
    },
    "id": "pB2tnPkL1-02",
    "outputId": "b73a290b-f4f1-4252-8468-e53a199fced8"
   },
   "outputs": [
    {
     "name": "stdout",
     "output_type": "stream",
     "text": [
      "Found 70295 files belonging to 38 classes.\n"
     ]
    }
   ],
   "source": [
    "#training image preprocessing\n",
    "training_set = tf.keras.utils.image_dataset_from_directory(\n",
    "    'train',\n",
    "    labels=\"inferred\",\n",
    "    label_mode=\"categorical\",\n",
    "    class_names=None,\n",
    "    color_mode=\"rgb\",\n",
    "    batch_size=32,\n",
    "    image_size=(128, 128),\n",
    "    shuffle=True,\n",
    "    seed=None,\n",
    "    validation_split=None,\n",
    "    subset=None,\n",
    "    interpolation=\"bilinear\",\n",
    "    follow_links=False,\n",
    "    crop_to_aspect_ratio=False\n",
    ")"
   ]
  },
  {
   "cell_type": "code",
   "execution_count": 3,
   "metadata": {},
   "outputs": [
    {
     "data": {
      "text/plain": [
       "'\\ndirectory: Folder with data; if labels are \"inferred\", it must contain class subfolders.\\nlabels: Options are \"inferred\" (from directory), None (no labels), or a custom label list matching files.\\nlabel_mode: Label encoding as \"int\", \"categorical\", \"binary\", or None.\\nclass_names: Custom class order (used with inferred labels).\\ncolor_mode: Image color format - \"grayscale\", \"rgb\", or \"rgba\".\\nbatch_size: Data batch size, default is 32; None yields individual samples.\\nimage_size: Resized image dimensions, defaults to (256, 256).\\nshuffle: Whether to shuffle data (default: True).\\nseed: Random seed for shuffling.\\nvalidation_split: Data fraction for validation.\\nsubset: \"training\", \"validation\", or \"both\" (used with validation_split).\\ninterpolation: Resizing method (e.g., \"bilinear\").\\nfollow_links: Follow symbolic links to subdirectories.\\ncrop_to_aspect_ratio/pad_to_aspect_ratio: Resize while preserving aspect ratio, with cropping or padding.\\ndata_format: \"channel_last\" or \"channel_first\".\\nverbose: Show class and file count (default: True).\\n'"
      ]
     },
     "execution_count": 3,
     "metadata": {},
     "output_type": "execute_result"
    }
   ],
   "source": [
    "'''\n",
    "directory: Folder with data; if labels are \"inferred\", it must contain class subfolders.\n",
    "labels: Options are \"inferred\" (from directory), None (no labels), or a custom label list matching files.\n",
    "label_mode: Label encoding as \"int\", \"categorical\", \"binary\", or None.\n",
    "class_names: Custom class order (used with inferred labels).\n",
    "color_mode: Image color format - \"grayscale\", \"rgb\", or \"rgba\".\n",
    "batch_size: Data batch size, default is 32; None yields individual samples.\n",
    "image_size: Resized image dimensions, defaults to (256, 256).\n",
    "shuffle: Whether to shuffle data (default: True).\n",
    "seed: Random seed for shuffling.\n",
    "validation_split: Data fraction for validation.\n",
    "subset: \"training\", \"validation\", or \"both\" (used with validation_split).\n",
    "interpolation: Resizing method (e.g., \"bilinear\").\n",
    "follow_links: Follow symbolic links to subdirectories.\n",
    "crop_to_aspect_ratio/pad_to_aspect_ratio: Resize while preserving aspect ratio, with cropping or padding.\n",
    "data_format: \"channel_last\" or \"channel_first\".\n",
    "verbose: Show class and file count (default: True).\n",
    "'''"
   ]
  },
  {
   "cell_type": "code",
   "execution_count": 4,
   "metadata": {},
   "outputs": [
    {
     "name": "stdout",
     "output_type": "stream",
     "text": [
      "Found 17572 files belonging to 38 classes.\n"
     ]
    }
   ],
   "source": [
    "#validation image preprocessing\n",
    "validation_set = tf.keras.utils.image_dataset_from_directory(\n",
    "    'valid',\n",
    "    labels=\"inferred\",\n",
    "    label_mode=\"categorical\",\n",
    "    class_names=None,\n",
    "    color_mode=\"rgb\",\n",
    "    batch_size=32,\n",
    "    image_size=(128, 128),\n",
    "    shuffle=True,\n",
    "    seed=None,\n",
    "    validation_split=None,\n",
    "    subset=None,\n",
    "    interpolation=\"bilinear\",\n",
    "    follow_links=False,\n",
    "    crop_to_aspect_ratio=False\n",
    ")\n"
   ]
  },
  {
   "cell_type": "code",
   "execution_count": 5,
   "metadata": {},
   "outputs": [
    {
     "data": {
      "text/plain": [
       "<BatchDataset element_spec=(TensorSpec(shape=(None, 128, 128, 3), dtype=tf.float32, name=None), TensorSpec(shape=(None, 38), dtype=tf.float32, name=None))>"
      ]
     },
     "execution_count": 5,
     "metadata": {},
     "output_type": "execute_result"
    }
   ],
   "source": [
    "training_set"
   ]
  },
  {
   "cell_type": "code",
   "execution_count": 6,
   "metadata": {},
   "outputs": [
    {
     "data": {
      "text/plain": [
       "<BatchDataset element_spec=(TensorSpec(shape=(None, 128, 128, 3), dtype=tf.float32, name=None), TensorSpec(shape=(None, 38), dtype=tf.float32, name=None))>"
      ]
     },
     "execution_count": 6,
     "metadata": {},
     "output_type": "execute_result"
    }
   ],
   "source": [
    "validation_set"
   ]
  },
  {
   "cell_type": "code",
   "execution_count": 7,
   "metadata": {},
   "outputs": [
    {
     "name": "stdout",
     "output_type": "stream",
     "text": [
      "['Apple___Apple_scab', 'Apple___Black_rot', 'Apple___Cedar_apple_rust', 'Apple___healthy', 'Blueberry___healthy', 'Cherry_(including_sour)___Powdery_mildew', 'Cherry_(including_sour)___healthy', 'Corn_(maize)___Cercospora_leaf_spot Gray_leaf_spot', 'Corn_(maize)___Common_rust_', 'Corn_(maize)___Northern_Leaf_Blight', 'Corn_(maize)___healthy', 'Grape___Black_rot', 'Grape___Esca_(Black_Measles)', 'Grape___Leaf_blight_(Isariopsis_Leaf_Spot)', 'Grape___healthy', 'Orange___Haunglongbing_(Citrus_greening)', 'Peach___Bacterial_spot', 'Peach___healthy', 'Pepper,_bell___Bacterial_spot', 'Pepper,_bell___healthy', 'Potato___Early_blight', 'Potato___Late_blight', 'Potato___healthy', 'Raspberry___healthy', 'Soybean___healthy', 'Squash___Powdery_mildew', 'Strawberry___Leaf_scorch', 'Strawberry___healthy', 'Tomato___Bacterial_spot', 'Tomato___Early_blight', 'Tomato___Late_blight', 'Tomato___Leaf_Mold', 'Tomato___Septoria_leaf_spot', 'Tomato___Spider_mites Two-spotted_spider_mite', 'Tomato___Target_Spot', 'Tomato___Tomato_Yellow_Leaf_Curl_Virus', 'Tomato___Tomato_mosaic_virus', 'Tomato___healthy']\n",
      "['Apple___Apple_scab', 'Apple___Black_rot', 'Apple___Cedar_apple_rust', 'Apple___healthy', 'Blueberry___healthy', 'Cherry_(including_sour)___Powdery_mildew', 'Cherry_(including_sour)___healthy', 'Corn_(maize)___Cercospora_leaf_spot Gray_leaf_spot', 'Corn_(maize)___Common_rust_', 'Corn_(maize)___Northern_Leaf_Blight', 'Corn_(maize)___healthy', 'Grape___Black_rot', 'Grape___Esca_(Black_Measles)', 'Grape___Leaf_blight_(Isariopsis_Leaf_Spot)', 'Grape___healthy', 'Orange___Haunglongbing_(Citrus_greening)', 'Peach___Bacterial_spot', 'Peach___healthy', 'Pepper,_bell___Bacterial_spot', 'Pepper,_bell___healthy', 'Potato___Early_blight', 'Potato___Late_blight', 'Potato___healthy', 'Raspberry___healthy', 'Soybean___healthy', 'Squash___Powdery_mildew', 'Strawberry___Leaf_scorch', 'Strawberry___healthy', 'Tomato___Bacterial_spot', 'Tomato___Early_blight', 'Tomato___Late_blight', 'Tomato___Leaf_Mold', 'Tomato___Septoria_leaf_spot', 'Tomato___Spider_mites Two-spotted_spider_mite', 'Tomato___Target_Spot', 'Tomato___Tomato_Yellow_Leaf_Curl_Virus', 'Tomato___Tomato_mosaic_virus', 'Tomato___healthy']\n"
     ]
    }
   ],
   "source": [
    "print(training_set.class_names)\n",
    "print(validation_set.class_names)"
   ]
  },
  {
   "cell_type": "code",
   "execution_count": 8,
   "metadata": {},
   "outputs": [
    {
     "name": "stdout",
     "output_type": "stream",
     "text": [
      "tf.Tensor(\n",
      "[[[[182.   178.   175.  ]\n",
      "   [180.   176.   173.  ]\n",
      "   [197.5  193.5  190.5 ]\n",
      "   ...\n",
      "   [189.5  184.5  180.5 ]\n",
      "   [191.75 186.75 182.75]\n",
      "   [188.25 183.25 179.25]]\n",
      "\n",
      "  [[207.   203.   200.  ]\n",
      "   [201.75 197.75 194.75]\n",
      "   [184.25 180.25 177.25]\n",
      "   ...\n",
      "   [196.5  191.5  187.5 ]\n",
      "   [194.5  189.5  185.5 ]\n",
      "   [192.75 187.75 183.75]]\n",
      "\n",
      "  [[193.25 189.25 186.25]\n",
      "   [195.25 191.25 188.25]\n",
      "   [201.75 197.75 194.75]\n",
      "   ...\n",
      "   [192.5  187.5  183.5 ]\n",
      "   [203.25 198.25 194.25]\n",
      "   [187.   182.   178.  ]]\n",
      "\n",
      "  ...\n",
      "\n",
      "  [[159.25 148.25 144.25]\n",
      "   [155.25 144.25 140.25]\n",
      "   [162.   151.   147.  ]\n",
      "   ...\n",
      "   [161.75 150.75 144.75]\n",
      "   [162.75 151.75 145.75]\n",
      "   [161.75 150.75 144.75]]\n",
      "\n",
      "  [[171.5  160.5  156.5 ]\n",
      "   [162.25 151.25 147.25]\n",
      "   [172.   161.   157.  ]\n",
      "   ...\n",
      "   [162.75 151.75 145.75]\n",
      "   [166.25 155.25 149.25]\n",
      "   [161.75 150.75 144.75]]\n",
      "\n",
      "  [[155.   144.   140.  ]\n",
      "   [169.75 158.75 154.75]\n",
      "   [163.   152.   148.  ]\n",
      "   ...\n",
      "   [162.   151.   145.  ]\n",
      "   [160.5  149.5  143.5 ]\n",
      "   [157.   146.   140.  ]]]\n",
      "\n",
      "\n",
      " [[[ 96.25  88.75  87.  ]\n",
      "   [ 94.    87.    85.5 ]\n",
      "   [ 95.25  88.25  86.75]\n",
      "   ...\n",
      "   [ 97.    91.5   93.  ]\n",
      "   [ 94.5   89.5   90.5 ]\n",
      "   [ 95.25  90.25  91.25]]\n",
      "\n",
      "  [[183.   175.   172.  ]\n",
      "   [182.   174.   171.  ]\n",
      "   [186.   178.   175.  ]\n",
      "   ...\n",
      "   [190.   184.   186.  ]\n",
      "   [186.   180.   182.  ]\n",
      "   [187.75 181.75 183.75]]\n",
      "\n",
      "  [[184.75 176.75 173.75]\n",
      "   [184.25 176.25 173.25]\n",
      "   [186.   178.   175.  ]\n",
      "   ...\n",
      "   [189.5  183.5  185.5 ]\n",
      "   [185.5  179.5  181.5 ]\n",
      "   [187.25 181.25 183.25]]\n",
      "\n",
      "  ...\n",
      "\n",
      "  [[167.75 159.75 157.75]\n",
      "   [170.25 162.25 160.25]\n",
      "   [170.   162.   160.  ]\n",
      "   ...\n",
      "   [172.5  166.5  168.5 ]\n",
      "   [185.5  179.5  181.5 ]\n",
      "   [177.5  171.5  173.5 ]]\n",
      "\n",
      "  [[166.75 158.75 156.75]\n",
      "   [173.75 165.75 163.75]\n",
      "   [173.   165.   163.  ]\n",
      "   ...\n",
      "   [180.25 174.25 176.25]\n",
      "   [175.   169.   171.  ]\n",
      "   [176.   170.   172.  ]]\n",
      "\n",
      "  [[153.25 145.25 143.25]\n",
      "   [172.   164.   162.  ]\n",
      "   [168.   160.   158.  ]\n",
      "   ...\n",
      "   [171.   165.   167.  ]\n",
      "   [175.75 169.75 171.75]\n",
      "   [172.   166.   168.  ]]]\n",
      "\n",
      "\n",
      " [[[176.   164.   164.  ]\n",
      "   [172.   160.   160.  ]\n",
      "   [166.5  154.5  154.5 ]\n",
      "   ...\n",
      "   [138.   124.   123.  ]\n",
      "   [139.25 125.25 124.25]\n",
      "   [147.25 133.25 132.25]]\n",
      "\n",
      "  [[170.   158.   158.  ]\n",
      "   [177.5  165.5  165.5 ]\n",
      "   [172.   160.   160.  ]\n",
      "   ...\n",
      "   [144.5  130.5  129.5 ]\n",
      "   [155.75 141.75 140.75]\n",
      "   [151.5  137.5  136.5 ]]\n",
      "\n",
      "  [[171.   159.   159.  ]\n",
      "   [172.   160.   160.  ]\n",
      "   [175.5  163.5  163.5 ]\n",
      "   ...\n",
      "   [138.5  124.5  123.5 ]\n",
      "   [154.5  140.5  139.5 ]\n",
      "   [142.25 128.25 127.25]]\n",
      "\n",
      "  ...\n",
      "\n",
      "  [[159.75 147.75 147.75]\n",
      "   [145.   133.   133.  ]\n",
      "   [154.25 142.25 142.25]\n",
      "   ...\n",
      "   [138.75 124.75 124.75]\n",
      "   [124.75 110.75 110.75]\n",
      "   [138.5  124.5  124.5 ]]\n",
      "\n",
      "  [[142.5  130.5  130.5 ]\n",
      "   [155.25 143.25 143.25]\n",
      "   [159.75 147.75 147.75]\n",
      "   ...\n",
      "   [132.25 118.25 118.25]\n",
      "   [138.5  124.5  124.5 ]\n",
      "   [118.75 104.75 104.75]]\n",
      "\n",
      "  [[151.75 139.75 139.75]\n",
      "   [164.25 152.25 152.25]\n",
      "   [155.25 143.25 143.25]\n",
      "   ...\n",
      "   [132.25 118.25 118.25]\n",
      "   [142.75 128.75 128.75]\n",
      "   [133.   119.   119.  ]]]\n",
      "\n",
      "\n",
      " ...\n",
      "\n",
      "\n",
      " [[[108.5   99.5  104.5 ]\n",
      "   [114.25 105.25 110.25]\n",
      "   [108.    99.   104.  ]\n",
      "   ...\n",
      "   [115.25 105.25 104.25]\n",
      "   [128.5  118.5  117.5 ]\n",
      "   [124.   114.   113.  ]]\n",
      "\n",
      "  [[112.25 103.25 108.25]\n",
      "   [113.25 104.25 109.25]\n",
      "   [114.   105.   110.  ]\n",
      "   ...\n",
      "   [119.75 109.75 108.75]\n",
      "   [120.5  110.5  109.5 ]\n",
      "   [120.5  110.5  109.5 ]]\n",
      "\n",
      "  [[117.25 108.25 113.25]\n",
      "   [117.5  108.5  113.5 ]\n",
      "   [110.75 101.75 106.75]\n",
      "   ...\n",
      "   [119.75 109.75 108.75]\n",
      "   [120.25 110.25 109.25]\n",
      "   [122.75 112.75 111.75]]\n",
      "\n",
      "  ...\n",
      "\n",
      "  [[158.   152.   154.  ]\n",
      "   [159.75 153.75 155.75]\n",
      "   [155.25 149.25 151.25]\n",
      "   ...\n",
      "   [150.   141.   142.  ]\n",
      "   [155.5  146.5  147.5 ]\n",
      "   [155.25 146.25 147.25]]\n",
      "\n",
      "  [[159.75 153.75 155.75]\n",
      "   [165.75 159.75 161.75]\n",
      "   [162.   156.   158.  ]\n",
      "   ...\n",
      "   [155.5  147.5  145.5 ]\n",
      "   [162.25 154.25 152.25]\n",
      "   [162.   154.   152.  ]]\n",
      "\n",
      "  [[156.5  150.5  152.5 ]\n",
      "   [156.25 150.25 152.25]\n",
      "   [162.75 156.75 158.75]\n",
      "   ...\n",
      "   [158.25 150.25 148.25]\n",
      "   [164.75 156.75 154.75]\n",
      "   [159.   151.   149.  ]]]\n",
      "\n",
      "\n",
      " [[[187.   189.   201.  ]\n",
      "   [188.5  190.5  202.5 ]\n",
      "   [187.   189.   201.  ]\n",
      "   ...\n",
      "   [134.   130.   145.  ]\n",
      "   [120.75 116.75 131.75]\n",
      "   [118.5  114.5  129.5 ]]\n",
      "\n",
      "  [[198.   200.   212.  ]\n",
      "   [192.25 194.25 206.25]\n",
      "   [182.   184.   196.  ]\n",
      "   ...\n",
      "   [129.5  125.5  140.5 ]\n",
      "   [124.75 120.75 135.75]\n",
      "   [123.75 119.75 134.75]]\n",
      "\n",
      "  [[190.   192.   204.  ]\n",
      "   [193.   195.   207.  ]\n",
      "   [192.   194.   206.  ]\n",
      "   ...\n",
      "   [127.75 123.75 138.75]\n",
      "   [114.25 110.25 125.25]\n",
      "   [145.5  141.5  156.5 ]]\n",
      "\n",
      "  ...\n",
      "\n",
      "  [[163.25 160.25 171.25]\n",
      "   [173.   170.   181.  ]\n",
      "   [165.5  162.5  173.5 ]\n",
      "   ...\n",
      "   [129.5  121.5  134.5 ]\n",
      "   [119.75 111.75 124.75]\n",
      "   [116.75 108.75 121.75]]\n",
      "\n",
      "  [[161.25 158.25 169.25]\n",
      "   [166.   163.   174.  ]\n",
      "   [161.25 158.25 169.25]\n",
      "   ...\n",
      "   [118.5  110.5  123.5 ]\n",
      "   [108.   100.   113.  ]\n",
      "   [120.5  112.5  125.5 ]]\n",
      "\n",
      "  [[158.   155.   166.  ]\n",
      "   [161.75 158.75 169.75]\n",
      "   [154.25 151.25 162.25]\n",
      "   ...\n",
      "   [131.   123.   136.  ]\n",
      "   [124.25 116.25 129.25]\n",
      "   [129.5  121.5  134.5 ]]]\n",
      "\n",
      "\n",
      " [[[112.5  103.5  106.5 ]\n",
      "   [105.25  96.25  99.25]\n",
      "   [105.25  96.25  99.25]\n",
      "   ...\n",
      "   [114.5  119.5   64.  ]\n",
      "   [133.75 136.25  93.  ]\n",
      "   [138.5  138.75 111.5 ]]\n",
      "\n",
      "  [[108.25  99.25 102.25]\n",
      "   [109.   100.   103.  ]\n",
      "   [106.75  97.75 100.75]\n",
      "   ...\n",
      "   [117.25 121.75  69.  ]\n",
      "   [128.75 130.25  94.25]\n",
      "   [134.5  133.5  114.25]]\n",
      "\n",
      "  [[114.   105.   108.  ]\n",
      "   [114.25 105.25 108.25]\n",
      "   [109.25 100.25 103.25]\n",
      "   ...\n",
      "   [124.5  127.75  81.25]\n",
      "   [137.5  137.   113.  ]\n",
      "   [137.75 134.75 128.5 ]]\n",
      "\n",
      "  ...\n",
      "\n",
      "  [[ 75.75 100.25  72.75]\n",
      "   [ 85.5  107.5   77.75]\n",
      "   [ 85.75 103.5   69.5 ]\n",
      "   ...\n",
      "   [154.   150.   164.  ]\n",
      "   [152.25 148.25 162.25]\n",
      "   [151.25 147.25 161.25]]\n",
      "\n",
      "  [[ 74.25 100.    72.  ]\n",
      "   [ 88.   110.    80.5 ]\n",
      "   [100.   116.    80.75]\n",
      "   ...\n",
      "   [152.75 148.75 162.75]\n",
      "   [151.   147.   161.  ]\n",
      "   [150.   146.   160.  ]]\n",
      "\n",
      "  [[ 82.   108.    80.  ]\n",
      "   [ 94.25 116.25  86.75]\n",
      "   [100.75 116.25  81.25]\n",
      "   ...\n",
      "   [150.5  146.5  160.5 ]\n",
      "   [151.   147.   161.  ]\n",
      "   [150.75 146.75 160.75]]]], shape=(32, 128, 128, 3), dtype=float32) (32, 128, 128, 3)\n",
      "tf.Tensor(\n",
      "[[0. 0. 0. ... 0. 0. 0.]\n",
      " [0. 0. 0. ... 0. 0. 0.]\n",
      " [0. 0. 0. ... 0. 0. 0.]\n",
      " ...\n",
      " [0. 0. 0. ... 1. 0. 0.]\n",
      " [0. 0. 0. ... 0. 0. 0.]\n",
      " [0. 0. 0. ... 0. 0. 0.]], shape=(32, 38), dtype=float32) (32, 38)\n"
     ]
    }
   ],
   "source": [
    "for x,y in training_set:\n",
    "    print(x, x.shape) #x content\n",
    "    print(y, y.shape) #y content\n",
    "    break"
   ]
  },
  {
   "cell_type": "code",
   "execution_count": 9,
   "metadata": {},
   "outputs": [
    {
     "data": {
      "text/plain": [
       "'\\nTo avoid Overshooding\\n1. Choose small learning rate default 0.001 we are taking 0.0001\\n2. There may be chance of Underfitting so increase number of neurons 0.0001\\n3. Add more convolution layer extract more feature from images there may be possibly that model unable \\nto capture relevent feature or model is confusing due to lack of feature so feed with more feature.\\n'"
      ]
     },
     "execution_count": 9,
     "metadata": {},
     "output_type": "execute_result"
    }
   ],
   "source": [
    "'''\n",
    "To avoid Overshooding\n",
    "1. Choose small learning rate default 0.001 we are taking 0.0001\n",
    "2. There may be chance of Underfitting so increase number of neurons 0.0001\n",
    "3. Add more convolution layer extract more feature from images there may be possibly that model unable \n",
    "to capture relevent feature or model is confusing due to lack of feature so feed with more feature.\n",
    "'''"
   ]
  },
  {
   "cell_type": "code",
   "execution_count": 10,
   "metadata": {},
   "outputs": [],
   "source": [
    "##Building Model"
   ]
  },
  {
   "cell_type": "code",
   "execution_count": 11,
   "metadata": {},
   "outputs": [],
   "source": [
    "cnn = tf.keras.Sequential() # allows you to build a neural network by stacking layers sequentially, one after another"
   ]
  },
  {
   "cell_type": "code",
   "execution_count": 12,
   "metadata": {},
   "outputs": [],
   "source": [
    "##Building Convolutional Layer1\n",
    "cnn.add(tf.keras.layers.Input(shape=[128, 128, 3]))\n",
    "\n",
    "# Add the rest of the layers\n",
    "cnn.add(tf.keras.layers.Conv2D(filters=32, kernel_size=3, padding='same', activation='relu'))\n",
    "cnn.add(tf.keras.layers.Conv2D(filters=32, kernel_size=3, activation='relu'))\n",
    "cnn.add(tf.keras.layers.MaxPool2D(pool_size=2, strides=2))"
   ]
  },
  {
   "cell_type": "code",
   "execution_count": 13,
   "metadata": {},
   "outputs": [],
   "source": [
    "cnn.add(tf.keras.layers.Conv2D(filters=64,kernel_size=3,padding='same',activation='relu'))\n",
    "cnn.add(tf.keras.layers.Conv2D(filters=64,kernel_size=3,activation='relu'))\n",
    "cnn.add(tf.keras.layers.MaxPool2D(pool_size=2,strides=2))"
   ]
  },
  {
   "cell_type": "code",
   "execution_count": 14,
   "metadata": {},
   "outputs": [],
   "source": [
    "cnn.add(tf.keras.layers.Conv2D(filters=128,kernel_size=3,padding='same',activation='relu'))\n",
    "cnn.add(tf.keras.layers.Conv2D(filters=128,kernel_size=3,activation='relu'))\n",
    "cnn.add(tf.keras.layers.MaxPool2D(pool_size=2,strides=2))"
   ]
  },
  {
   "cell_type": "code",
   "execution_count": 15,
   "metadata": {},
   "outputs": [],
   "source": [
    "cnn.add(tf.keras.layers.Conv2D(filters=256,kernel_size=3,padding='same',activation='relu'))\n",
    "cnn.add(tf.keras.layers.Conv2D(filters=256,kernel_size=3,activation='relu'))\n",
    "cnn.add(tf.keras.layers.MaxPool2D(pool_size=2,strides=2))"
   ]
  },
  {
   "cell_type": "code",
   "execution_count": 16,
   "metadata": {},
   "outputs": [],
   "source": [
    "cnn.add(tf.keras.layers.Conv2D(filters=512,kernel_size=3,padding='same',activation='relu'))\n",
    "cnn.add(tf.keras.layers.Conv2D(filters=512,kernel_size=3,activation='relu'))\n",
    "cnn.add(tf.keras.layers.MaxPool2D(pool_size=2,strides=2))"
   ]
  },
  {
   "cell_type": "code",
   "execution_count": 17,
   "metadata": {},
   "outputs": [],
   "source": [
    "cnn.add(tf.keras.layers.Dropout(0.25)) #cut layers 25% for reduse overfitting"
   ]
  },
  {
   "cell_type": "code",
   "execution_count": 18,
   "metadata": {},
   "outputs": [],
   "source": [
    "cnn.add(tf.keras.layers.Flatten()) #2D - 1D"
   ]
  },
  {
   "cell_type": "code",
   "execution_count": 19,
   "metadata": {},
   "outputs": [],
   "source": [
    "cnn.add(tf.keras.layers.Dense(units=1500,activation='relu'))"
   ]
  },
  {
   "cell_type": "code",
   "execution_count": 20,
   "metadata": {},
   "outputs": [],
   "source": [
    "cnn.add(tf.keras.layers.Dropout(0.4))"
   ]
  },
  {
   "cell_type": "code",
   "execution_count": 21,
   "metadata": {},
   "outputs": [],
   "source": [
    "#output layer\n",
    "cnn.add(tf.keras.layers.Dense(units=38,activation='softmax'))"
   ]
  },
  {
   "cell_type": "code",
   "execution_count": 22,
   "metadata": {},
   "outputs": [],
   "source": [
    "#compiling model\n",
    "cnn.compile(optimizer=tf.keras.optimizers.Adam(\n",
    "    learning_rate=0.0001),loss='categorical_crossentropy',metrics=['accuracy'])\n",
    "\n",
    "#Adam is an adaptive learning rate optimization algorithm that adjusts the learning rate during training for efficient convergence. It’s widely used due to its speed and performance.\n",
    "#compares the model’s output probabilities with the true labels and computes the error.\n",
    "#calculating the percentage of correct predictions."
   ]
  },
  {
   "cell_type": "code",
   "execution_count": 23,
   "metadata": {
    "scrolled": true
   },
   "outputs": [
    {
     "name": "stdout",
     "output_type": "stream",
     "text": [
      "Model: \"sequential\"\n",
      "_________________________________________________________________\n",
      " Layer (type)                Output Shape              Param #   \n",
      "=================================================================\n",
      " conv2d (Conv2D)             (None, 128, 128, 32)      896       \n",
      "                                                                 \n",
      " conv2d_1 (Conv2D)           (None, 126, 126, 32)      9248      \n",
      "                                                                 \n",
      " max_pooling2d (MaxPooling2D  (None, 63, 63, 32)       0         \n",
      " )                                                               \n",
      "                                                                 \n",
      " conv2d_2 (Conv2D)           (None, 63, 63, 64)        18496     \n",
      "                                                                 \n",
      " conv2d_3 (Conv2D)           (None, 61, 61, 64)        36928     \n",
      "                                                                 \n",
      " max_pooling2d_1 (MaxPooling  (None, 30, 30, 64)       0         \n",
      " 2D)                                                             \n",
      "                                                                 \n",
      " conv2d_4 (Conv2D)           (None, 30, 30, 128)       73856     \n",
      "                                                                 \n",
      " conv2d_5 (Conv2D)           (None, 28, 28, 128)       147584    \n",
      "                                                                 \n",
      " max_pooling2d_2 (MaxPooling  (None, 14, 14, 128)      0         \n",
      " 2D)                                                             \n",
      "                                                                 \n",
      " conv2d_6 (Conv2D)           (None, 14, 14, 256)       295168    \n",
      "                                                                 \n",
      " conv2d_7 (Conv2D)           (None, 12, 12, 256)       590080    \n",
      "                                                                 \n",
      " max_pooling2d_3 (MaxPooling  (None, 6, 6, 256)        0         \n",
      " 2D)                                                             \n",
      "                                                                 \n",
      " conv2d_8 (Conv2D)           (None, 6, 6, 512)         1180160   \n",
      "                                                                 \n",
      " conv2d_9 (Conv2D)           (None, 4, 4, 512)         2359808   \n",
      "                                                                 \n",
      " max_pooling2d_4 (MaxPooling  (None, 2, 2, 512)        0         \n",
      " 2D)                                                             \n",
      "                                                                 \n",
      " dropout (Dropout)           (None, 2, 2, 512)         0         \n",
      "                                                                 \n",
      " flatten (Flatten)           (None, 2048)              0         \n",
      "                                                                 \n",
      " dense (Dense)               (None, 1500)              3073500   \n",
      "                                                                 \n",
      " dropout_1 (Dropout)         (None, 1500)              0         \n",
      "                                                                 \n",
      " dense_1 (Dense)             (None, 38)                57038     \n",
      "                                                                 \n",
      "=================================================================\n",
      "Total params: 7,842,762\n",
      "Trainable params: 7,842,762\n",
      "Non-trainable params: 0\n",
      "_________________________________________________________________\n"
     ]
    }
   ],
   "source": [
    "cnn.summary()"
   ]
  },
  {
   "cell_type": "code",
   "execution_count": null,
   "metadata": {},
   "outputs": [
    {
     "name": "stdout",
     "output_type": "stream",
     "text": [
      "Epoch 1/10\n",
      " 176/2197 [=>............................] - ETA: 18:27 - loss: 3.2717 - accuracy: 0.1152"
     ]
    }
   ],
   "source": [
    "#model training\n",
    "training_history = cnn.fit(x=training_set,validation_data=validation_set,epochs=10)"
   ]
  },
  {
   "cell_type": "code",
   "execution_count": null,
   "metadata": {
    "slideshow": {
     "slide_type": ""
    },
    "tags": []
   },
   "outputs": [],
   "source": []
  },
  {
   "cell_type": "code",
   "execution_count": null,
   "metadata": {},
   "outputs": [],
   "source": []
  },
  {
   "cell_type": "code",
   "execution_count": null,
   "metadata": {},
   "outputs": [],
   "source": []
  }
 ],
 "metadata": {
  "colab": {
   "provenance": []
  },
  "kernelspec": {
   "display_name": "Python 3 (ipykernel)",
   "language": "python",
   "name": "python3"
  },
  "language_info": {
   "codemirror_mode": {
    "name": "ipython",
    "version": 3
   },
   "file_extension": ".py",
   "mimetype": "text/x-python",
   "name": "python",
   "nbconvert_exporter": "python",
   "pygments_lexer": "ipython3",
   "version": "3.10.13"
  },
  "widgets": {
   "application/vnd.jupyter.widget-state+json": {
    "state": {},
    "version_major": 2,
    "version_minor": 0
   }
  }
 },
 "nbformat": 4,
 "nbformat_minor": 4
}
