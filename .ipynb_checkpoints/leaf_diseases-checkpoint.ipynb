{
 "cells": [
  {
   "cell_type": "code",
   "execution_count": 1,
   "metadata": {
    "colab": {
     "base_uri": "https://localhost:8080/",
     "height": 90
    },
    "id": "l0IHn9wx054F",
    "outputId": "8bd5d83e-ac36-4b79-9056-92c6c7631fba"
   },
   "outputs": [
    {
     "data": {
      "text/plain": [
       "'tensorflow: Machine learning library.\\nmatplotlib.pyplot: Plotting/visualization tool.\\npandas: Data manipulation library.\\nseaborn: Enhanced data visualization.'"
      ]
     },
     "execution_count": 1,
     "metadata": {},
     "output_type": "execute_result"
    }
   ],
   "source": [
    "import tensorflow as tf\n",
    "import matplotlib.pyplot as plt\n",
    "\n",
    "import pandas as pd\n",
    "import seaborn as sns\n",
    "\n",
    "'''tensorflow: Machine learning library.\n",
    "matplotlib.pyplot: Plotting/visualization tool.\n",
    "pandas: Data manipulation library.\n",
    "seaborn: Enhanced data visualization.'''"
   ]
  },
  {
   "cell_type": "code",
   "execution_count": 2,
   "metadata": {
    "colab": {
     "base_uri": "https://localhost:8080/",
     "height": 126
    },
    "id": "pB2tnPkL1-02",
    "outputId": "b73a290b-f4f1-4252-8468-e53a199fced8"
   },
   "outputs": [
    {
     "name": "stdout",
     "output_type": "stream",
     "text": [
      "Found 70295 files belonging to 38 classes.\n"
     ]
    }
   ],
   "source": [
    "#training image preprocessing\n",
    "training_set = tf.keras.utils.image_dataset_from_directory(\n",
    "    'train',\n",
    "    labels=\"inferred\",\n",
    "    label_mode=\"categorical\",\n",
    "    class_names=None,\n",
    "    color_mode=\"rgb\",\n",
    "    batch_size=32,\n",
    "    image_size=(128, 128),\n",
    "    shuffle=True,\n",
    "    seed=None,\n",
    "    validation_split=None,\n",
    "    subset=None,\n",
    "    interpolation=\"bilinear\",\n",
    "    follow_links=False,\n",
    "    crop_to_aspect_ratio=False\n",
    ")"
   ]
  },
  {
   "cell_type": "code",
   "execution_count": 3,
   "metadata": {},
   "outputs": [
    {
     "data": {
      "text/plain": [
       "'\\ndirectory: Folder with data; if labels are \"inferred\", it must contain class subfolders.\\nlabels: Options are \"inferred\" (from directory), None (no labels), or a custom label list matching files.\\nlabel_mode: Label encoding as \"int\", \"categorical\", \"binary\", or None.\\nclass_names: Custom class order (used with inferred labels).\\ncolor_mode: Image color format - \"grayscale\", \"rgb\", or \"rgba\".\\nbatch_size: Data batch size, default is 32; None yields individual samples.\\nimage_size: Resized image dimensions, defaults to (256, 256).\\nshuffle: Whether to shuffle data (default: True).\\nseed: Random seed for shuffling.\\nvalidation_split: Data fraction for validation.\\nsubset: \"training\", \"validation\", or \"both\" (used with validation_split).\\ninterpolation: Resizing method (e.g., \"bilinear\").\\nfollow_links: Follow symbolic links to subdirectories.\\ncrop_to_aspect_ratio/pad_to_aspect_ratio: Resize while preserving aspect ratio, with cropping or padding.\\ndata_format: \"channel_last\" or \"channel_first\".\\nverbose: Show class and file count (default: True).\\n'"
      ]
     },
     "execution_count": 3,
     "metadata": {},
     "output_type": "execute_result"
    }
   ],
   "source": [
    "'''\n",
    "directory: Folder with data; if labels are \"inferred\", it must contain class subfolders.\n",
    "labels: Options are \"inferred\" (from directory), None (no labels), or a custom label list matching files.\n",
    "label_mode: Label encoding as \"int\", \"categorical\", \"binary\", or None.\n",
    "class_names: Custom class order (used with inferred labels).\n",
    "color_mode: Image color format - \"grayscale\", \"rgb\", or \"rgba\".\n",
    "batch_size: Data batch size, default is 32; None yields individual samples.\n",
    "image_size: Resized image dimensions, defaults to (256, 256).\n",
    "shuffle: Whether to shuffle data (default: True).\n",
    "seed: Random seed for shuffling.\n",
    "validation_split: Data fraction for validation.\n",
    "subset: \"training\", \"validation\", or \"both\" (used with validation_split).\n",
    "interpolation: Resizing method (e.g., \"bilinear\").\n",
    "follow_links: Follow symbolic links to subdirectories.\n",
    "crop_to_aspect_ratio/pad_to_aspect_ratio: Resize while preserving aspect ratio, with cropping or padding.\n",
    "data_format: \"channel_last\" or \"channel_first\".\n",
    "verbose: Show class and file count (default: True).\n",
    "'''"
   ]
  },
  {
   "cell_type": "code",
   "execution_count": 4,
   "metadata": {},
   "outputs": [
    {
     "name": "stdout",
     "output_type": "stream",
     "text": [
      "Found 17572 files belonging to 38 classes.\n"
     ]
    }
   ],
   "source": [
    "#validation image preprocessing\n",
    "validation_set = tf.keras.utils.image_dataset_from_directory(\n",
    "    'valid',\n",
    "    labels=\"inferred\",\n",
    "    label_mode=\"categorical\",\n",
    "    class_names=None,\n",
    "    color_mode=\"rgb\",\n",
    "    batch_size=32,\n",
    "    image_size=(128, 128),\n",
    "    shuffle=True,\n",
    "    seed=None,\n",
    "    validation_split=None,\n",
    "    subset=None,\n",
    "    interpolation=\"bilinear\",\n",
    "    follow_links=False,\n",
    "    crop_to_aspect_ratio=False\n",
    ")\n"
   ]
  },
  {
   "cell_type": "code",
   "execution_count": 5,
   "metadata": {},
   "outputs": [
    {
     "data": {
      "text/plain": [
       "<BatchDataset element_spec=(TensorSpec(shape=(None, 128, 128, 3), dtype=tf.float32, name=None), TensorSpec(shape=(None, 38), dtype=tf.float32, name=None))>"
      ]
     },
     "execution_count": 5,
     "metadata": {},
     "output_type": "execute_result"
    }
   ],
   "source": [
    "training_set"
   ]
  },
  {
   "cell_type": "code",
   "execution_count": 6,
   "metadata": {},
   "outputs": [
    {
     "data": {
      "text/plain": [
       "<BatchDataset element_spec=(TensorSpec(shape=(None, 128, 128, 3), dtype=tf.float32, name=None), TensorSpec(shape=(None, 38), dtype=tf.float32, name=None))>"
      ]
     },
     "execution_count": 6,
     "metadata": {},
     "output_type": "execute_result"
    }
   ],
   "source": [
    "validation_set"
   ]
  },
  {
   "cell_type": "code",
   "execution_count": 7,
   "metadata": {},
   "outputs": [
    {
     "name": "stdout",
     "output_type": "stream",
     "text": [
      "['Apple___Apple_scab', 'Apple___Black_rot', 'Apple___Cedar_apple_rust', 'Apple___healthy', 'Blueberry___healthy', 'Cherry_(including_sour)___Powdery_mildew', 'Cherry_(including_sour)___healthy', 'Corn_(maize)___Cercospora_leaf_spot Gray_leaf_spot', 'Corn_(maize)___Common_rust_', 'Corn_(maize)___Northern_Leaf_Blight', 'Corn_(maize)___healthy', 'Grape___Black_rot', 'Grape___Esca_(Black_Measles)', 'Grape___Leaf_blight_(Isariopsis_Leaf_Spot)', 'Grape___healthy', 'Orange___Haunglongbing_(Citrus_greening)', 'Peach___Bacterial_spot', 'Peach___healthy', 'Pepper,_bell___Bacterial_spot', 'Pepper,_bell___healthy', 'Potato___Early_blight', 'Potato___Late_blight', 'Potato___healthy', 'Raspberry___healthy', 'Soybean___healthy', 'Squash___Powdery_mildew', 'Strawberry___Leaf_scorch', 'Strawberry___healthy', 'Tomato___Bacterial_spot', 'Tomato___Early_blight', 'Tomato___Late_blight', 'Tomato___Leaf_Mold', 'Tomato___Septoria_leaf_spot', 'Tomato___Spider_mites Two-spotted_spider_mite', 'Tomato___Target_Spot', 'Tomato___Tomato_Yellow_Leaf_Curl_Virus', 'Tomato___Tomato_mosaic_virus', 'Tomato___healthy']\n",
      "['Apple___Apple_scab', 'Apple___Black_rot', 'Apple___Cedar_apple_rust', 'Apple___healthy', 'Blueberry___healthy', 'Cherry_(including_sour)___Powdery_mildew', 'Cherry_(including_sour)___healthy', 'Corn_(maize)___Cercospora_leaf_spot Gray_leaf_spot', 'Corn_(maize)___Common_rust_', 'Corn_(maize)___Northern_Leaf_Blight', 'Corn_(maize)___healthy', 'Grape___Black_rot', 'Grape___Esca_(Black_Measles)', 'Grape___Leaf_blight_(Isariopsis_Leaf_Spot)', 'Grape___healthy', 'Orange___Haunglongbing_(Citrus_greening)', 'Peach___Bacterial_spot', 'Peach___healthy', 'Pepper,_bell___Bacterial_spot', 'Pepper,_bell___healthy', 'Potato___Early_blight', 'Potato___Late_blight', 'Potato___healthy', 'Raspberry___healthy', 'Soybean___healthy', 'Squash___Powdery_mildew', 'Strawberry___Leaf_scorch', 'Strawberry___healthy', 'Tomato___Bacterial_spot', 'Tomato___Early_blight', 'Tomato___Late_blight', 'Tomato___Leaf_Mold', 'Tomato___Septoria_leaf_spot', 'Tomato___Spider_mites Two-spotted_spider_mite', 'Tomato___Target_Spot', 'Tomato___Tomato_Yellow_Leaf_Curl_Virus', 'Tomato___Tomato_mosaic_virus', 'Tomato___healthy']\n"
     ]
    }
   ],
   "source": [
    "print(training_set.class_names)\n",
    "print(validation_set.class_names)"
   ]
  },
  {
   "cell_type": "code",
   "execution_count": 8,
   "metadata": {},
   "outputs": [
    {
     "name": "stdout",
     "output_type": "stream",
     "text": [
      "tf.Tensor(\n",
      "[[[[175.   172.   167.  ]\n",
      "   [185.25 182.25 177.25]\n",
      "   [183.25 180.25 175.25]\n",
      "   ...\n",
      "   [141.5  139.25 118.25]\n",
      "   [130.   124.5  107.25]\n",
      "   [131.   124.5  112.5 ]]\n",
      "\n",
      "  [[187.25 184.25 179.25]\n",
      "   [188.25 185.25 180.25]\n",
      "   [181.25 178.25 173.25]\n",
      "   ...\n",
      "   [143.25 137.5  119.75]\n",
      "   [131.75 124.5  117.25]\n",
      "   [132.   122.75 127.25]]\n",
      "\n",
      "  [[178.   175.   170.  ]\n",
      "   [177.   174.   169.  ]\n",
      "   [191.75 188.75 183.75]\n",
      "   ...\n",
      "   [130.25 126.    83.75]\n",
      "   [126.75 119.75 101.  ]\n",
      "   [135.5  125.25 126.75]]\n",
      "\n",
      "  ...\n",
      "\n",
      "  [[ 82.    78.    67.5 ]\n",
      "   [ 85.75  82.75  66.5 ]\n",
      "   [ 87.5   86.    59.75]\n",
      "   ...\n",
      "   [ 86.25  79.25  73.25]\n",
      "   [ 85.75  78.75  72.75]\n",
      "   [ 88.25  81.25  75.25]]\n",
      "\n",
      "  [[ 82.75  78.25  70.75]\n",
      "   [ 83.5   79.25  69.75]\n",
      "   [ 82.25  78.75  65.75]\n",
      "   ...\n",
      "   [ 86.    79.    73.  ]\n",
      "   [ 84.    77.    71.  ]\n",
      "   [ 90.25  83.25  77.25]]\n",
      "\n",
      "  [[ 83.25  78.25  74.75]\n",
      "   [ 82.75  77.75  74.25]\n",
      "   [ 83.75  78.25  76.25]\n",
      "   ...\n",
      "   [ 89.5   82.5   76.5 ]\n",
      "   [ 83.    76.    70.  ]\n",
      "   [ 88.75  81.75  75.75]]]\n",
      "\n",
      "\n",
      " [[[246.5  224.   244.5 ]\n",
      "   [253.75 226.75 251.  ]\n",
      "   [246.5  218.75 246.  ]\n",
      "   ...\n",
      "   [255.   255.   255.  ]\n",
      "   [255.   255.   255.  ]\n",
      "   [255.   255.   255.  ]]\n",
      "\n",
      "  [[252.75 238.75 252.  ]\n",
      "   [250.25 228.75 248.  ]\n",
      "   [255.   236.   255.  ]\n",
      "   ...\n",
      "   [255.   255.   255.  ]\n",
      "   [255.   255.   255.  ]\n",
      "   [255.   255.   255.  ]]\n",
      "\n",
      "  [[248.   236.   247.  ]\n",
      "   [253.75 241.75 252.75]\n",
      "   [244.75 227.5  245.5 ]\n",
      "   ...\n",
      "   [255.   255.   255.  ]\n",
      "   [255.   255.   255.  ]\n",
      "   [255.   255.   255.  ]]\n",
      "\n",
      "  ...\n",
      "\n",
      "  [[255.   255.   255.  ]\n",
      "   [255.   255.   255.  ]\n",
      "   [255.   255.   255.  ]\n",
      "   ...\n",
      "   [251.   251.   251.  ]\n",
      "   [242.   242.   242.  ]\n",
      "   [251.   251.   251.  ]]\n",
      "\n",
      "  [[253.25 253.25 253.25]\n",
      "   [253.75 253.75 253.75]\n",
      "   [255.   255.   255.  ]\n",
      "   ...\n",
      "   [253.75 253.75 253.75]\n",
      "   [248.75 248.75 248.75]\n",
      "   [253.25 253.25 253.25]]\n",
      "\n",
      "  [[248.   248.   248.  ]\n",
      "   [246.5  246.5  246.5 ]\n",
      "   [254.5  254.5  254.5 ]\n",
      "   ...\n",
      "   [253.25 253.25 253.25]\n",
      "   [253.25 253.25 253.25]\n",
      "   [251.   251.   251.  ]]]\n",
      "\n",
      "\n",
      " [[[163.5  158.5  162.5 ]\n",
      "   [161.25 156.25 160.25]\n",
      "   [158.5  153.5  157.5 ]\n",
      "   ...\n",
      "   [136.5  131.5  135.5 ]\n",
      "   [136.25 131.25 135.25]\n",
      "   [134.   129.   133.  ]]\n",
      "\n",
      "  [[163.75 158.75 162.75]\n",
      "   [163.75 158.75 162.75]\n",
      "   [165.5  160.5  164.5 ]\n",
      "   ...\n",
      "   [132.75 127.75 131.75]\n",
      "   [134.   129.   133.  ]\n",
      "   [136.   131.   135.  ]]\n",
      "\n",
      "  [[161.   156.   160.  ]\n",
      "   [165.5  160.5  164.5 ]\n",
      "   [165.   160.   164.  ]\n",
      "   ...\n",
      "   [135.5  130.5  134.5 ]\n",
      "   [132.75 127.75 131.75]\n",
      "   [133.   128.   132.  ]]\n",
      "\n",
      "  ...\n",
      "\n",
      "  [[122.75 114.75 112.75]\n",
      "   [125.75 117.75 115.75]\n",
      "   [121.75 113.75 111.75]\n",
      "   ...\n",
      "   [116.5  107.5  110.5 ]\n",
      "   [113.75 104.75 107.75]\n",
      "   [126.75 117.75 120.75]]\n",
      "\n",
      "  [[113.25 105.25 103.25]\n",
      "   [119.75 111.75 109.75]\n",
      "   [121.75 113.75 111.75]\n",
      "   ...\n",
      "   [116.   107.   110.  ]\n",
      "   [115.   106.   109.  ]\n",
      "   [116.   107.   110.  ]]\n",
      "\n",
      "  [[132.25 124.25 122.25]\n",
      "   [121.75 113.75 111.75]\n",
      "   [128.25 120.25 118.25]\n",
      "   ...\n",
      "   [116.5  107.5  110.5 ]\n",
      "   [124.25 115.25 118.25]\n",
      "   [117.75 108.75 111.75]]]\n",
      "\n",
      "\n",
      " ...\n",
      "\n",
      "\n",
      " [[[124.   111.   118.  ]\n",
      "   [113.   100.   107.  ]\n",
      "   [114.5  101.5  108.5 ]\n",
      "   ...\n",
      "   [178.25 168.25 176.25]\n",
      "   [180.75 170.75 178.75]\n",
      "   [186.   176.   184.  ]]\n",
      "\n",
      "  [[112.5   99.5  106.5 ]\n",
      "   [114.   101.   108.  ]\n",
      "   [106.75  93.75 100.75]\n",
      "   ...\n",
      "   [183.25 173.25 181.25]\n",
      "   [177.75 167.75 175.75]\n",
      "   [184.25 174.25 182.25]]\n",
      "\n",
      "  [[105.5   92.5   99.5 ]\n",
      "   [117.75 104.75 111.75]\n",
      "   [116.5  103.5  110.5 ]\n",
      "   ...\n",
      "   [185.25 175.25 183.25]\n",
      "   [178.75 168.75 176.75]\n",
      "   [183.25 173.25 181.25]]\n",
      "\n",
      "  ...\n",
      "\n",
      "  [[118.   106.   118.  ]\n",
      "   [116.75 104.75 116.75]\n",
      "   [111.5   99.5  111.5 ]\n",
      "   ...\n",
      "   [162.   152.   163.  ]\n",
      "   [167.   157.   168.  ]\n",
      "   [159.25 149.25 160.25]]\n",
      "\n",
      "  [[124.75 112.75 124.75]\n",
      "   [116.   104.   116.  ]\n",
      "   [127.75 115.75 127.75]\n",
      "   ...\n",
      "   [161.   151.   162.  ]\n",
      "   [163.5  153.5  164.5 ]\n",
      "   [161.   151.   162.  ]]\n",
      "\n",
      "  [[121.25 109.25 121.25]\n",
      "   [126.75 114.75 126.75]\n",
      "   [113.5  101.5  113.5 ]\n",
      "   ...\n",
      "   [174.   164.   175.  ]\n",
      "   [161.5  151.5  162.5 ]\n",
      "   [161.5  151.5  162.5 ]]]\n",
      "\n",
      "\n",
      " [[[113.25 105.25 103.25]\n",
      "   [121.5  113.5  111.5 ]\n",
      "   [107.25  99.25  97.25]\n",
      "   ...\n",
      "   [149.   144.   148.  ]\n",
      "   [152.75 147.75 151.75]\n",
      "   [151.25 146.25 150.25]]\n",
      "\n",
      "  [[131.5  123.5  121.5 ]\n",
      "   [111.5  103.5  101.5 ]\n",
      "   [ 91.75  83.75  81.75]\n",
      "   ...\n",
      "   [152.75 147.75 151.75]\n",
      "   [156.5  151.5  155.5 ]\n",
      "   [151.   146.   150.  ]]\n",
      "\n",
      "  [[108.25 100.25  98.25]\n",
      "   [118.5  110.5  108.5 ]\n",
      "   [110.75 102.75 100.75]\n",
      "   ...\n",
      "   [150.5  145.5  149.5 ]\n",
      "   [152.75 147.75 151.75]\n",
      "   [149.5  144.5  148.5 ]]\n",
      "\n",
      "  ...\n",
      "\n",
      "  [[145.25 135.25 133.25]\n",
      "   [154.5  144.5  142.5 ]\n",
      "   [149.75 139.75 137.75]\n",
      "   ...\n",
      "   [217.   213.   210.  ]\n",
      "   [224.25 220.25 217.25]\n",
      "   [231.25 227.25 224.25]]\n",
      "\n",
      "  [[162.25 152.25 150.25]\n",
      "   [159.25 149.25 147.25]\n",
      "   [170.25 160.25 158.25]\n",
      "   ...\n",
      "   [220.5  216.5  213.5 ]\n",
      "   [228.   224.   221.  ]\n",
      "   [229.25 225.25 222.25]]\n",
      "\n",
      "  [[149.25 139.25 137.25]\n",
      "   [152.5  142.5  140.5 ]\n",
      "   [160.5  150.5  148.5 ]\n",
      "   ...\n",
      "   [220.   216.   213.  ]\n",
      "   [219.   215.   212.  ]\n",
      "   [227.75 223.75 220.75]]]\n",
      "\n",
      "\n",
      " [[[ 88.    78.75  77.75]\n",
      "   [ 90.75  81.    79.5 ]\n",
      "   [ 92.    82.5   81.25]\n",
      "   ...\n",
      "   [ 92.    84.5   88.  ]\n",
      "   [ 93.25  85.75  89.25]\n",
      "   [ 93.    85.    89.  ]]\n",
      "\n",
      "  [[171.   161.   159.  ]\n",
      "   [168.25 158.25 156.25]\n",
      "   [170.5  160.5  158.5 ]\n",
      "   ...\n",
      "   [175.25 166.25 171.25]\n",
      "   [181.25 172.25 177.25]\n",
      "   [176.   167.   172.  ]]\n",
      "\n",
      "  [[169.   159.   157.  ]\n",
      "   [163.75 153.75 151.75]\n",
      "   [162.75 152.75 150.75]\n",
      "   ...\n",
      "   [169.75 160.75 165.75]\n",
      "   [177.   168.   173.  ]\n",
      "   [175.   166.   171.  ]]\n",
      "\n",
      "  ...\n",
      "\n",
      "  [[166.   155.   153.  ]\n",
      "   [179.   168.   166.  ]\n",
      "   [160.   149.   147.  ]\n",
      "   ...\n",
      "   [180.5  171.5  174.5 ]\n",
      "   [194.   185.   188.  ]\n",
      "   [179.25 170.25 173.25]]\n",
      "\n",
      "  [[180.   169.   167.  ]\n",
      "   [169.5  158.5  156.5 ]\n",
      "   [179.25 168.25 166.25]\n",
      "   ...\n",
      "   [176.5  167.5  170.5 ]\n",
      "   [166.   157.   160.  ]\n",
      "   [185.   176.   179.  ]]\n",
      "\n",
      "  [[167.5  156.5  154.5 ]\n",
      "   [171.5  160.5  158.5 ]\n",
      "   [169.5  158.5  156.5 ]\n",
      "   ...\n",
      "   [181.25 172.25 175.25]\n",
      "   [164.5  155.5  158.5 ]\n",
      "   [165.75 156.75 159.75]]]], shape=(32, 128, 128, 3), dtype=float32) (32, 128, 128, 3)\n",
      "tf.Tensor(\n",
      "[[0. 0. 0. ... 0. 0. 0.]\n",
      " [0. 0. 0. ... 0. 1. 0.]\n",
      " [0. 0. 0. ... 0. 0. 0.]\n",
      " ...\n",
      " [0. 0. 0. ... 0. 0. 0.]\n",
      " [0. 0. 0. ... 0. 0. 0.]\n",
      " [0. 0. 0. ... 0. 0. 0.]], shape=(32, 38), dtype=float32) (32, 38)\n"
     ]
    }
   ],
   "source": [
    "for x,y in training_set:\n",
    "    print(x, x.shape) #x content\n",
    "    print(y, y.shape) #y content\n",
    "    break"
   ]
  },
  {
   "cell_type": "code",
   "execution_count": 9,
   "metadata": {},
   "outputs": [
    {
     "data": {
      "text/plain": [
       "'\\nTo avoid Overshooding\\n1. Choose small learning rate default 0.001 we are taking 0.0001\\n2. There may be chance of Underfitting so increase number of neurons 0.0001\\n3. Add more convolution layer extract more feature from images there may be possibly that model unable \\nto capture relevent feature or model is confusing due to lack of feature so feed with more feature.\\n'"
      ]
     },
     "execution_count": 9,
     "metadata": {},
     "output_type": "execute_result"
    }
   ],
   "source": [
    "'''\n",
    "To avoid Overshooding\n",
    "1. Choose small learning rate default 0.001 we are taking 0.0001\n",
    "2. There may be chance of Underfitting so increase number of neurons 0.0001\n",
    "3. Add more convolution layer extract more feature from images there may be possibly that model unable \n",
    "to capture relevent feature or model is confusing due to lack of feature so feed with more feature.\n",
    "'''"
   ]
  },
  {
   "cell_type": "code",
   "execution_count": 10,
   "metadata": {},
   "outputs": [],
   "source": [
    "##Building Model"
   ]
  },
  {
   "cell_type": "code",
   "execution_count": 11,
   "metadata": {},
   "outputs": [],
   "source": [
    "cnn = tf.keras.Sequential() # allows you to build a neural network by stacking layers sequentially, one after another"
   ]
  },
  {
   "cell_type": "code",
   "execution_count": 12,
   "metadata": {},
   "outputs": [],
   "source": [
    "##Building Convolutional Layer1\n",
    "cnn.add(tf.keras.layers.Input(shape=[128, 128, 3]))\n",
    "\n",
    "# Add the rest of the layers\n",
    "cnn.add(tf.keras.layers.Conv2D(filters=32, kernel_size=3, padding='same', activation='relu'))\n",
    "cnn.add(tf.keras.layers.Conv2D(filters=32, kernel_size=3, activation='relu'))\n",
    "cnn.add(tf.keras.layers.MaxPool2D(pool_size=2, strides=2))"
   ]
  },
  {
   "cell_type": "code",
   "execution_count": 13,
   "metadata": {},
   "outputs": [],
   "source": [
    "cnn.add(tf.keras.layers.Conv2D(filters=64,kernel_size=3,padding='same',activation='relu'))\n",
    "cnn.add(tf.keras.layers.Conv2D(filters=64,kernel_size=3,activation='relu'))\n",
    "cnn.add(tf.keras.layers.MaxPool2D(pool_size=2,strides=2))"
   ]
  },
  {
   "cell_type": "code",
   "execution_count": 14,
   "metadata": {},
   "outputs": [],
   "source": [
    "cnn.add(tf.keras.layers.Conv2D(filters=128,kernel_size=3,padding='same',activation='relu'))\n",
    "cnn.add(tf.keras.layers.Conv2D(filters=128,kernel_size=3,activation='relu'))\n",
    "cnn.add(tf.keras.layers.MaxPool2D(pool_size=2,strides=2))"
   ]
  },
  {
   "cell_type": "code",
   "execution_count": 15,
   "metadata": {},
   "outputs": [],
   "source": [
    "cnn.add(tf.keras.layers.Conv2D(filters=256,kernel_size=3,padding='same',activation='relu'))\n",
    "cnn.add(tf.keras.layers.Conv2D(filters=256,kernel_size=3,activation='relu'))\n",
    "cnn.add(tf.keras.layers.MaxPool2D(pool_size=2,strides=2))"
   ]
  },
  {
   "cell_type": "code",
   "execution_count": 16,
   "metadata": {},
   "outputs": [],
   "source": [
    "cnn.add(tf.keras.layers.Conv2D(filters=512,kernel_size=3,padding='same',activation='relu'))\n",
    "cnn.add(tf.keras.layers.Conv2D(filters=512,kernel_size=3,activation='relu'))\n",
    "cnn.add(tf.keras.layers.MaxPool2D(pool_size=2,strides=2))"
   ]
  },
  {
   "cell_type": "code",
   "execution_count": 17,
   "metadata": {},
   "outputs": [],
   "source": [
    "cnn.add(tf.keras.layers.Dropout(0.25)) #cut layers 25% for reduse overfitting"
   ]
  },
  {
   "cell_type": "code",
   "execution_count": 18,
   "metadata": {},
   "outputs": [],
   "source": [
    "cnn.add(tf.keras.layers.Flatten()) #2D - 1D"
   ]
  },
  {
   "cell_type": "code",
   "execution_count": 19,
   "metadata": {},
   "outputs": [],
   "source": [
    "cnn.add(tf.keras.layers.Dense(units=1500,activation='relu'))"
   ]
  },
  {
   "cell_type": "code",
   "execution_count": 20,
   "metadata": {},
   "outputs": [],
   "source": [
    "cnn.add(tf.keras.layers.Dropout(0.4))"
   ]
  },
  {
   "cell_type": "code",
   "execution_count": 21,
   "metadata": {},
   "outputs": [],
   "source": [
    "#output layer\n",
    "cnn.add(tf.keras.layers.Dense(units=38,activation='softmax'))"
   ]
  },
  {
   "cell_type": "code",
   "execution_count": 22,
   "metadata": {},
   "outputs": [],
   "source": [
    "#compiling model\n",
    "cnn.compile(optimizer=tf.keras.optimizers.Adam(\n",
    "    learning_rate=0.0001),loss='categorical_crossentropy',metrics=['accuracy'])\n",
    "\n",
    "#Adam is an adaptive learning rate optimization algorithm that adjusts the learning rate during training for efficient convergence. It’s widely used due to its speed and performance.\n",
    "#compares the model’s output probabilities with the true labels and computes the error.\n",
    "#calculating the percentage of correct predictions."
   ]
  },
  {
   "cell_type": "code",
   "execution_count": 23,
   "metadata": {
    "scrolled": true
   },
   "outputs": [
    {
     "name": "stdout",
     "output_type": "stream",
     "text": [
      "Model: \"sequential\"\n",
      "_________________________________________________________________\n",
      " Layer (type)                Output Shape              Param #   \n",
      "=================================================================\n",
      " conv2d (Conv2D)             (None, 128, 128, 32)      896       \n",
      "                                                                 \n",
      " conv2d_1 (Conv2D)           (None, 126, 126, 32)      9248      \n",
      "                                                                 \n",
      " max_pooling2d (MaxPooling2D  (None, 63, 63, 32)       0         \n",
      " )                                                               \n",
      "                                                                 \n",
      " conv2d_2 (Conv2D)           (None, 63, 63, 64)        18496     \n",
      "                                                                 \n",
      " conv2d_3 (Conv2D)           (None, 61, 61, 64)        36928     \n",
      "                                                                 \n",
      " max_pooling2d_1 (MaxPooling  (None, 30, 30, 64)       0         \n",
      " 2D)                                                             \n",
      "                                                                 \n",
      " conv2d_4 (Conv2D)           (None, 30, 30, 128)       73856     \n",
      "                                                                 \n",
      " conv2d_5 (Conv2D)           (None, 28, 28, 128)       147584    \n",
      "                                                                 \n",
      " max_pooling2d_2 (MaxPooling  (None, 14, 14, 128)      0         \n",
      " 2D)                                                             \n",
      "                                                                 \n",
      " conv2d_6 (Conv2D)           (None, 14, 14, 256)       295168    \n",
      "                                                                 \n",
      " conv2d_7 (Conv2D)           (None, 12, 12, 256)       590080    \n",
      "                                                                 \n",
      " max_pooling2d_3 (MaxPooling  (None, 6, 6, 256)        0         \n",
      " 2D)                                                             \n",
      "                                                                 \n",
      " conv2d_8 (Conv2D)           (None, 6, 6, 512)         1180160   \n",
      "                                                                 \n",
      " conv2d_9 (Conv2D)           (None, 4, 4, 512)         2359808   \n",
      "                                                                 \n",
      " max_pooling2d_4 (MaxPooling  (None, 2, 2, 512)        0         \n",
      " 2D)                                                             \n",
      "                                                                 \n",
      " dropout (Dropout)           (None, 2, 2, 512)         0         \n",
      "                                                                 \n",
      " flatten (Flatten)           (None, 2048)              0         \n",
      "                                                                 \n",
      " dense (Dense)               (None, 1500)              3073500   \n",
      "                                                                 \n",
      " dropout_1 (Dropout)         (None, 1500)              0         \n",
      "                                                                 \n",
      " dense_1 (Dense)             (None, 38)                57038     \n",
      "                                                                 \n",
      "=================================================================\n",
      "Total params: 7,842,762\n",
      "Trainable params: 7,842,762\n",
      "Non-trainable params: 0\n",
      "_________________________________________________________________\n"
     ]
    }
   ],
   "source": [
    "cnn.summary()"
   ]
  },
  {
   "cell_type": "code",
   "execution_count": 24,
   "metadata": {},
   "outputs": [
    {
     "name": "stdout",
     "output_type": "stream",
     "text": [
      "Epoch 1/10\n",
      "2197/2197 [==============================] - 1394s 634ms/step - loss: 1.4261 - accuracy: 0.5803 - val_loss: 0.5307 - val_accuracy: 0.8286\n",
      "Epoch 2/10\n",
      "2197/2197 [==============================] - 1342s 611ms/step - loss: 0.4530 - accuracy: 0.8564 - val_loss: 0.2861 - val_accuracy: 0.9070\n",
      "Epoch 3/10\n",
      "2197/2197 [==============================] - 1312s 597ms/step - loss: 0.2709 - accuracy: 0.9129 - val_loss: 0.1880 - val_accuracy: 0.9372\n",
      "Epoch 4/10\n",
      "2197/2197 [==============================] - 1385s 630ms/step - loss: 0.1901 - accuracy: 0.9377 - val_loss: 0.1765 - val_accuracy: 0.9428\n",
      "Epoch 5/10\n",
      "2197/2197 [==============================] - 1388s 632ms/step - loss: 0.1413 - accuracy: 0.9533 - val_loss: 0.2479 - val_accuracy: 0.9220\n",
      "Epoch 6/10\n",
      "2197/2197 [==============================] - 2240s 1s/step - loss: 0.1098 - accuracy: 0.9639 - val_loss: 0.1503 - val_accuracy: 0.9517\n",
      "Epoch 7/10\n",
      "2197/2197 [==============================] - 1364s 621ms/step - loss: 0.0909 - accuracy: 0.9699 - val_loss: 0.1677 - val_accuracy: 0.9463\n",
      "Epoch 8/10\n",
      "2197/2197 [==============================] - 7801s 4s/step - loss: 0.0747 - accuracy: 0.9757 - val_loss: 0.1053 - val_accuracy: 0.9684\n",
      "Epoch 9/10\n",
      "2197/2197 [==============================] - 1213s 552ms/step - loss: 0.0632 - accuracy: 0.9786 - val_loss: 0.1920 - val_accuracy: 0.9442\n",
      "Epoch 10/10\n",
      "2197/2197 [==============================] - 1223s 557ms/step - loss: 0.0562 - accuracy: 0.9817 - val_loss: 0.1330 - val_accuracy: 0.9626\n"
     ]
    }
   ],
   "source": [
    "#model training\n",
    "training_history = cnn.fit(x=training_set,validation_data=validation_set,epochs=10)"
   ]
  },
  {
   "cell_type": "code",
   "execution_count": 25,
   "metadata": {
    "slideshow": {
     "slide_type": ""
    },
    "tags": []
   },
   "outputs": [],
   "source": [
    "#model evaluvation"
   ]
  },
  {
   "cell_type": "code",
   "execution_count": 27,
   "metadata": {},
   "outputs": [
    {
     "name": "stdout",
     "output_type": "stream",
     "text": [
      "2197/2197 [==============================] - 356s 162ms/step - loss: 0.0287 - accuracy: 0.9906\n"
     ]
    }
   ],
   "source": [
    "train_loss,train_acc = cnn.evaluate(training_set)"
   ]
  },
  {
   "cell_type": "code",
   "execution_count": 28,
   "metadata": {},
   "outputs": [
    {
     "name": "stdout",
     "output_type": "stream",
     "text": [
      "0.028679078444838524 0.9905683398246765\n"
     ]
    }
   ],
   "source": [
    "print(train_loss,train_acc)"
   ]
  },
  {
   "cell_type": "code",
   "execution_count": 29,
   "metadata": {},
   "outputs": [
    {
     "name": "stdout",
     "output_type": "stream",
     "text": [
      "550/550 [==============================] - 87s 158ms/step - loss: 0.1330 - accuracy: 0.9626\n"
     ]
    }
   ],
   "source": [
    "val_loss,val_acc = cnn.evaluate(validation_set)"
   ]
  },
  {
   "cell_type": "code",
   "execution_count": 30,
   "metadata": {},
   "outputs": [
    {
     "name": "stdout",
     "output_type": "stream",
     "text": [
      "0.13296985626220703 0.9625540375709534\n"
     ]
    }
   ],
   "source": [
    "print(val_loss,val_acc)"
   ]
  },
  {
   "cell_type": "code",
   "execution_count": 33,
   "metadata": {},
   "outputs": [],
   "source": [
    "cnn.save(\"trained_model.keras\")"
   ]
  },
  {
   "cell_type": "code",
   "execution_count": 34,
   "metadata": {},
   "outputs": [
    {
     "data": {
      "text/plain": [
       "{'loss': [1.42606520652771,\n",
       "  0.45302045345306396,\n",
       "  0.27088457345962524,\n",
       "  0.1901337057352066,\n",
       "  0.1413484662771225,\n",
       "  0.10980232805013657,\n",
       "  0.0908874124288559,\n",
       "  0.07466038316488266,\n",
       "  0.06323930621147156,\n",
       "  0.05617096647620201],\n",
       " 'accuracy': [0.5802972912788391,\n",
       "  0.8563767075538635,\n",
       "  0.9128530025482178,\n",
       "  0.9376627206802368,\n",
       "  0.953311026096344,\n",
       "  0.9639376997947693,\n",
       "  0.96986985206604,\n",
       "  0.9756597280502319,\n",
       "  0.9786471128463745,\n",
       "  0.9817483425140381],\n",
       " 'val_loss': [0.5307329297065735,\n",
       "  0.2860923409461975,\n",
       "  0.18801572918891907,\n",
       "  0.1765008270740509,\n",
       "  0.24788030982017517,\n",
       "  0.15034766495227814,\n",
       "  0.16766628623008728,\n",
       "  0.10530901700258255,\n",
       "  0.19196553528308868,\n",
       "  0.13296997547149658],\n",
       " 'val_accuracy': [0.8285909295082092,\n",
       "  0.9069542288780212,\n",
       "  0.9372296929359436,\n",
       "  0.9428067207336426,\n",
       "  0.9220350384712219,\n",
       "  0.9517413973808289,\n",
       "  0.9462781548500061,\n",
       "  0.9683587551116943,\n",
       "  0.9441725611686707,\n",
       "  0.9625540375709534]}"
      ]
     },
     "execution_count": 34,
     "metadata": {},
     "output_type": "execute_result"
    }
   ],
   "source": [
    "training_history.history"
   ]
  },
  {
   "cell_type": "code",
   "execution_count": 35,
   "metadata": {},
   "outputs": [],
   "source": [
    "#Recording History\n",
    "import json\n",
    "with open(\"training_hist.json\",\"w\") as f:\n",
    "    json.dump(training_history.history , f)"
   ]
  },
  {
   "cell_type": "code",
   "execution_count": 39,
   "metadata": {},
   "outputs": [
    {
     "data": {
      "image/png": "[encoded data removed]",
      "text/plain": [
       "<Figure size 640x480 with 1 Axes>"
      ]
     },
     "metadata": {},
     "output_type": "display_data"
    }
   ],
   "source": [
    "epochs = [i for i in range(1,11)]\n",
    "plt.plot(epochs,training_history.history['accuracy'],color='red',label='Training Accuracy')\n",
    "plt.plot(epochs,training_history.history['val_accuracy'],color='blue',label='validation Accuracy')\n",
    "plt.xlabel(\"No of Epochs\")\n",
    "plt.ylabel(\"Result\")\n",
    "plt.title(\"Visulization\")\n",
    "plt.legend()\n",
    "plt.show()"
   ]
  },
  {
   "cell_type": "code",
   "execution_count": null,
   "metadata": {},
   "outputs": [],
   "source": []
  }
 ],
 "metadata": {
  "colab": {
   "provenance": []
  },
  "kernelspec": {
   "display_name": "Python 3 (ipykernel)",
   "language": "python",
   "name": "python3"
  },
  "language_info": {
   "codemirror_mode": {
    "name": "ipython",
    "version": 3
   },
   "file_extension": ".py",
   "mimetype": "text/x-python",
   "name": "python",
   "nbconvert_exporter": "python",
   "pygments_lexer": "ipython3",
   "version": "3.10.13"
  },
  "widgets": {
   "application/vnd.jupyter.widget-state+json": {
    "state": {},
    "version_major": 2,
    "version_minor": 0
   }
  }
 },
 "nbformat": 4,
 "nbformat_minor": 4
}
