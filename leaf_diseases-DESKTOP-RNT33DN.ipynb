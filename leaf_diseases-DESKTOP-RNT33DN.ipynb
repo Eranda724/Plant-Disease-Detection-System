{
 "cells": [
  {
   "cell_type": "code",
   "execution_count": 34,
   "metadata": {
    "colab": {
     "base_uri": "https://localhost:8080/",
     "height": 90
    },
    "id": "l0IHn9wx054F",
    "outputId": "8bd5d83e-ac36-4b79-9056-92c6c7631fba"
   },
   "outputs": [],
   "source": [
    "import tensorflow as tf\n",
    "import matplotlib.pyplot as plt\n",
    "\n",
    "import pandas as pd\n",
    "import seaborn as sns"
   ]
  },
  {
   "cell_type": "code",
   "execution_count": 2,
   "metadata": {
    "colab": {
     "base_uri": "https://localhost:8080/",
     "height": 126
    },
    "id": "pB2tnPkL1-02",
    "outputId": "b73a290b-f4f1-4252-8468-e53a199fced8"
   },
   "outputs": [
    {
     "name": "stdout",
     "output_type": "stream",
     "text": [
      "Found 70296 files belonging to 38 classes.\n"
     ]
    }
   ],
   "source": [
    "#training image preprocessing\n",
    "training_set = tf.keras.utils.image_dataset_from_directory(\n",
    "    'train',\n",
    "    labels=\"inferred\",\n",
    "    label_mode=\"categorical\",\n",
    "    class_names=None,\n",
    "    color_mode=\"rgb\",\n",
    "    batch_size=32,\n",
    "    image_size=(128, 128),\n",
    "    shuffle=True,\n",
    "    seed=None,\n",
    "    validation_split=None,\n",
    "    subset=None,\n",
    "    interpolation=\"bilinear\",\n",
    "    follow_links=False,\n",
    "    crop_to_aspect_ratio=False\n",
    ")"
   ]
  },
  {
   "cell_type": "code",
   "execution_count": 4,
   "metadata": {},
   "outputs": [
    {
     "name": "stdout",
     "output_type": "stream",
     "text": [
      "Found 17572 files belonging to 38 classes.\n"
     ]
    }
   ],
   "source": [
    "#validation image preprocessing\n",
    "validation_set = tf.keras.utils.image_dataset_from_directory(\n",
    "    'valid',\n",
    "    labels=\"inferred\",\n",
    "    label_mode=\"categorical\",\n",
    "    class_names=None,\n",
    "    color_mode=\"rgb\",\n",
    "    batch_size=32,\n",
    "    image_size=(128, 128),\n",
    "    shuffle=True,\n",
    "    seed=None,\n",
    "    validation_split=None,\n",
    "    subset=None,\n",
    "    interpolation=\"bilinear\",\n",
    "    follow_links=False,\n",
    "    crop_to_aspect_ratio=False\n",
    ")\n"
   ]
  },
  {
   "cell_type": "code",
   "execution_count": 5,
   "metadata": {},
   "outputs": [
    {
     "data": {
      "text/plain": [
       "<_BatchDataset element_spec=(TensorSpec(shape=(None, 128, 128, 3), dtype=tf.float32, name=None), TensorSpec(shape=(None, 38), dtype=tf.float32, name=None))>"
      ]
     },
     "execution_count": 5,
     "metadata": {},
     "output_type": "execute_result"
    }
   ],
   "source": [
    "training_set"
   ]
  },
  {
   "cell_type": "code",
   "execution_count": 6,
   "metadata": {},
   "outputs": [
    {
     "data": {
      "text/plain": [
       "<_BatchDataset element_spec=(TensorSpec(shape=(None, 128, 128, 3), dtype=tf.float32, name=None), TensorSpec(shape=(None, 38), dtype=tf.float32, name=None))>"
      ]
     },
     "execution_count": 6,
     "metadata": {},
     "output_type": "execute_result"
    }
   ],
   "source": [
    "validation_set"
   ]
  },
  {
   "cell_type": "code",
   "execution_count": 7,
   "metadata": {},
   "outputs": [
    {
     "name": "stdout",
     "output_type": "stream",
     "text": [
      "['Apple___Apple_scab', 'Apple___Black_rot', 'Apple___Cedar_apple_rust', 'Apple___healthy', 'Blueberry___healthy', 'Cherry_(including_sour)___Powdery_mildew', 'Cherry_(including_sour)___healthy', 'Corn_(maize)___Cercospora_leaf_spot Gray_leaf_spot', 'Corn_(maize)___Common_rust_', 'Corn_(maize)___Northern_Leaf_Blight', 'Corn_(maize)___healthy', 'Grape___Black_rot', 'Grape___Esca_(Black_Measles)', 'Grape___Leaf_blight_(Isariopsis_Leaf_Spot)', 'Grape___healthy', 'Orange___Haunglongbing_(Citrus_greening)', 'Peach___Bacterial_spot', 'Peach___healthy', 'Pepper,_bell___Bacterial_spot', 'Pepper,_bell___healthy', 'Potato___Early_blight', 'Potato___Late_blight', 'Potato___healthy', 'Raspberry___healthy', 'Soybean___healthy', 'Squash___Powdery_mildew', 'Strawberry___Leaf_scorch', 'Strawberry___healthy', 'Tomato___Bacterial_spot', 'Tomato___Early_blight', 'Tomato___Late_blight', 'Tomato___Leaf_Mold', 'Tomato___Septoria_leaf_spot', 'Tomato___Spider_mites Two-spotted_spider_mite', 'Tomato___Target_Spot', 'Tomato___Tomato_Yellow_Leaf_Curl_Virus', 'Tomato___Tomato_mosaic_virus', 'Tomato___healthy']\n",
      "['Apple___Apple_scab', 'Apple___Black_rot', 'Apple___Cedar_apple_rust', 'Apple___healthy', 'Blueberry___healthy', 'Cherry_(including_sour)___Powdery_mildew', 'Cherry_(including_sour)___healthy', 'Corn_(maize)___Cercospora_leaf_spot Gray_leaf_spot', 'Corn_(maize)___Common_rust_', 'Corn_(maize)___Northern_Leaf_Blight', 'Corn_(maize)___healthy', 'Grape___Black_rot', 'Grape___Esca_(Black_Measles)', 'Grape___Leaf_blight_(Isariopsis_Leaf_Spot)', 'Grape___healthy', 'Orange___Haunglongbing_(Citrus_greening)', 'Peach___Bacterial_spot', 'Peach___healthy', 'Pepper,_bell___Bacterial_spot', 'Pepper,_bell___healthy', 'Potato___Early_blight', 'Potato___Late_blight', 'Potato___healthy', 'Raspberry___healthy', 'Soybean___healthy', 'Squash___Powdery_mildew', 'Strawberry___Leaf_scorch', 'Strawberry___healthy', 'Tomato___Bacterial_spot', 'Tomato___Early_blight', 'Tomato___Late_blight', 'Tomato___Leaf_Mold', 'Tomato___Septoria_leaf_spot', 'Tomato___Spider_mites Two-spotted_spider_mite', 'Tomato___Target_Spot', 'Tomato___Tomato_Yellow_Leaf_Curl_Virus', 'Tomato___Tomato_mosaic_virus', 'Tomato___healthy']\n"
     ]
    }
   ],
   "source": [
    "print(training_set.class_names)\n",
    "print(validation_set.class_names)"
   ]
  },
  {
   "cell_type": "code",
   "execution_count": 8,
   "metadata": {},
   "outputs": [
    {
     "name": "stdout",
     "output_type": "stream",
     "text": [
      "tf.Tensor(\n",
      "[[[[163.5  149.5  148.5 ]\n",
      "   [159.5  145.5  144.5 ]\n",
      "   [148.75 134.75 133.75]\n",
      "   ...\n",
      "   [169.   157.   161.  ]\n",
      "   [172.   160.   164.  ]\n",
      "   [170.25 158.25 162.25]]\n",
      "\n",
      "  [[152.   138.   137.  ]\n",
      "   [149.   135.   134.  ]\n",
      "   [151.5  137.5  136.5 ]\n",
      "   ...\n",
      "   [170.   158.   162.  ]\n",
      "   [165.75 153.75 157.75]\n",
      "   [165.25 153.25 157.25]]\n",
      "\n",
      "  [[151.75 137.75 136.75]\n",
      "   [176.   162.   161.  ]\n",
      "   [147.75 133.75 132.75]\n",
      "   ...\n",
      "   [168.25 156.25 160.25]\n",
      "   [165.75 153.75 157.75]\n",
      "   [170.   158.   162.  ]]\n",
      "\n",
      "  ...\n",
      "\n",
      "  [[153.75 142.75 146.75]\n",
      "   [145.75 134.75 138.75]\n",
      "   [142.5  131.5  135.5 ]\n",
      "   ...\n",
      "   [164.   153.   159.  ]\n",
      "   [161.5  150.5  156.5 ]\n",
      "   [159.5  148.5  154.5 ]]\n",
      "\n",
      "  [[136.5  125.5  129.5 ]\n",
      "   [150.5  139.5  143.5 ]\n",
      "   [122.25 111.25 115.25]\n",
      "   ...\n",
      "   [163.25 152.25 158.25]\n",
      "   [163.   152.   158.  ]\n",
      "   [163.   152.   158.  ]]\n",
      "\n",
      "  [[131.5  120.5  124.5 ]\n",
      "   [134.   123.   127.  ]\n",
      "   [144.   133.   137.  ]\n",
      "   ...\n",
      "   [164.   153.   159.  ]\n",
      "   [164.25 153.25 159.25]\n",
      "   [160.25 149.25 155.25]]]\n",
      "\n",
      "\n",
      " [[[156.25 174.25 174.25]\n",
      "   [146.25 164.25 164.25]\n",
      "   [143.   161.   161.  ]\n",
      "   ...\n",
      "   [177.   191.   191.  ]\n",
      "   [177.5  191.5  191.5 ]\n",
      "   [169.5  183.5  183.5 ]]\n",
      "\n",
      "  [[146.25 164.25 164.25]\n",
      "   [148.   166.   166.  ]\n",
      "   [149.25 167.25 167.25]\n",
      "   ...\n",
      "   [176.75 190.75 190.75]\n",
      "   [182.5  196.5  196.5 ]\n",
      "   [186.   200.   200.  ]]\n",
      "\n",
      "  [[149.   167.   167.  ]\n",
      "   [152.25 170.25 170.25]\n",
      "   [153.75 171.75 171.75]\n",
      "   ...\n",
      "   [178.5  192.5  192.5 ]\n",
      "   [177.25 191.25 191.25]\n",
      "   [175.5  189.5  189.5 ]]\n",
      "\n",
      "  ...\n",
      "\n",
      "  [[133.5  151.5  151.5 ]\n",
      "   [141.5  159.5  159.5 ]\n",
      "   [159.75 177.75 177.75]\n",
      "   ...\n",
      "   [165.5  187.5  185.5 ]\n",
      "   [161.5  183.5  181.5 ]\n",
      "   [185.   207.   205.  ]]\n",
      "\n",
      "  [[145.   163.   163.  ]\n",
      "   [168.   186.   186.  ]\n",
      "   [140.   158.   158.  ]\n",
      "   ...\n",
      "   [182.   204.   202.  ]\n",
      "   [167.   189.   187.  ]\n",
      "   [173.5  193.75 192.25]]\n",
      "\n",
      "  [[152.5  170.5  170.5 ]\n",
      "   [141.75 159.75 159.75]\n",
      "   [144.75 162.75 162.75]\n",
      "   ...\n",
      "   [174.75 196.75 194.75]\n",
      "   [173.   195.   193.  ]\n",
      "   [189.5  211.5  209.5 ]]]\n",
      "\n",
      "\n",
      " [[[154.25 142.25 152.25]\n",
      "   [133.25 121.25 131.25]\n",
      "   [158.   146.   156.  ]\n",
      "   ...\n",
      "   [120.   109.   125.  ]\n",
      "   [120.25 109.25 125.25]\n",
      "   [128.   117.   133.  ]]\n",
      "\n",
      "  [[119.   107.   117.  ]\n",
      "   [148.5  136.5  146.5 ]\n",
      "   [129.   117.   127.  ]\n",
      "   ...\n",
      "   [125.75 114.75 130.75]\n",
      "   [126.5  115.5  131.5 ]\n",
      "   [126.5  115.5  131.5 ]]\n",
      "\n",
      "  [[153.5  141.5  151.5 ]\n",
      "   [148.75 136.75 146.75]\n",
      "   [162.   150.   160.  ]\n",
      "   ...\n",
      "   [119.25 108.25 124.25]\n",
      "   [130.   119.   135.  ]\n",
      "   [107.25  96.25 112.25]]\n",
      "\n",
      "  ...\n",
      "\n",
      "  [[154.   145.   162.  ]\n",
      "   [169.   160.   177.  ]\n",
      "   [171.   162.   179.  ]\n",
      "   ...\n",
      "   [132.25 123.25 140.25]\n",
      "   [155.   146.   165.  ]\n",
      "   [143.75 134.75 153.75]]\n",
      "\n",
      "  [[155.5  146.5  163.5 ]\n",
      "   [157.   148.   165.  ]\n",
      "   [152.75 143.75 160.75]\n",
      "   ...\n",
      "   [143.5  134.5  151.5 ]\n",
      "   [135.75 126.75 145.75]\n",
      "   [140.   131.   150.  ]]\n",
      "\n",
      "  [[152.5  143.5  160.5 ]\n",
      "   [151.5  142.5  159.5 ]\n",
      "   [154.25 145.25 162.25]\n",
      "   ...\n",
      "   [152.5  145.5  161.5 ]\n",
      "   [155.25 148.25 166.25]\n",
      "   [143.5  136.5  154.5 ]]]\n",
      "\n",
      "\n",
      " ...\n",
      "\n",
      "\n",
      " [[[139.5  129.5  128.5 ]\n",
      "   [136.5  126.5  125.5 ]\n",
      "   [134.   124.   123.  ]\n",
      "   ...\n",
      "   [179.   175.   176.  ]\n",
      "   [172.25 168.25 169.25]\n",
      "   [177.5  173.5  174.5 ]]\n",
      "\n",
      "  [[135.5  125.5  124.5 ]\n",
      "   [139.   129.   128.  ]\n",
      "   [138.   128.   127.  ]\n",
      "   ...\n",
      "   [177.5  173.5  174.5 ]\n",
      "   [175.   171.   172.  ]\n",
      "   [180.75 176.75 177.75]]\n",
      "\n",
      "  [[139.5  129.5  128.5 ]\n",
      "   [137.25 127.25 126.25]\n",
      "   [137.75 127.75 126.75]\n",
      "   ...\n",
      "   [173.5  169.5  170.5 ]\n",
      "   [176.   172.   173.  ]\n",
      "   [178.5  174.5  175.5 ]]\n",
      "\n",
      "  ...\n",
      "\n",
      "  [[129.25 118.25 116.25]\n",
      "   [132.75 121.75 119.75]\n",
      "   [147.75 136.75 134.75]\n",
      "   ...\n",
      "   [175.75 173.75 176.75]\n",
      "   [180.   178.   181.  ]\n",
      "   [179.25 177.25 180.25]]\n",
      "\n",
      "  [[138.   127.   125.  ]\n",
      "   [130.75 119.75 117.75]\n",
      "   [124.25 113.25 111.25]\n",
      "   ...\n",
      "   [180.   178.   181.  ]\n",
      "   [180.5  178.5  181.5 ]\n",
      "   [174.25 172.25 175.25]]\n",
      "\n",
      "  [[129.25 118.25 116.25]\n",
      "   [125.   114.   112.  ]\n",
      "   [133.   122.   120.  ]\n",
      "   ...\n",
      "   [177.75 175.75 178.75]\n",
      "   [173.75 171.75 174.75]\n",
      "   [173.5  171.5  174.5 ]]]\n",
      "\n",
      "\n",
      " [[[161.5  149.5  149.5 ]\n",
      "   [169.75 157.75 157.75]\n",
      "   [156.25 144.25 144.25]\n",
      "   ...\n",
      "   [128.75 114.75 113.75]\n",
      "   [123.   109.   108.  ]\n",
      "   [118.25 104.25 103.25]]\n",
      "\n",
      "  [[158.   146.   146.  ]\n",
      "   [155.25 143.25 143.25]\n",
      "   [169.5  157.5  157.5 ]\n",
      "   ...\n",
      "   [134.25 120.25 119.25]\n",
      "   [135.5  121.5  120.5 ]\n",
      "   [123.   109.   108.  ]]\n",
      "\n",
      "  [[170.5  158.5  158.5 ]\n",
      "   [165.25 153.25 153.25]\n",
      "   [179.5  167.5  167.5 ]\n",
      "   ...\n",
      "   [137.   123.   122.  ]\n",
      "   [129.   115.   114.  ]\n",
      "   [134.75 120.75 119.75]]\n",
      "\n",
      "  ...\n",
      "\n",
      "  [[173.   162.   160.  ]\n",
      "   [173.   162.   160.  ]\n",
      "   [174.5  163.5  161.5 ]\n",
      "   ...\n",
      "   [140.25 126.25 125.25]\n",
      "   [142.   128.   127.  ]\n",
      "   [147.5  133.5  132.5 ]]\n",
      "\n",
      "  [[176.75 165.75 163.75]\n",
      "   [170.5  159.5  157.5 ]\n",
      "   [173.75 162.75 160.75]\n",
      "   ...\n",
      "   [132.75 118.75 117.75]\n",
      "   [131.5  117.5  116.5 ]\n",
      "   [140.25 126.25 125.25]]\n",
      "\n",
      "  [[168.75 157.75 155.75]\n",
      "   [170.25 159.25 157.25]\n",
      "   [167.75 156.75 154.75]\n",
      "   ...\n",
      "   [130.5  116.5  115.5 ]\n",
      "   [138.   124.   123.  ]\n",
      "   [138.   124.   123.  ]]]\n",
      "\n",
      "\n",
      " [[[  3.     3.     3.  ]\n",
      "   [  3.     3.     3.  ]\n",
      "   [  3.     3.     3.  ]\n",
      "   ...\n",
      "   [  3.     3.     3.  ]\n",
      "   [  3.     3.     3.  ]\n",
      "   [  3.     3.     3.  ]]\n",
      "\n",
      "  [[  3.     3.     3.  ]\n",
      "   [  3.     3.     3.  ]\n",
      "   [  3.     3.     3.  ]\n",
      "   ...\n",
      "   [  3.     3.     3.  ]\n",
      "   [  3.     3.     3.  ]\n",
      "   [  3.     3.     3.  ]]\n",
      "\n",
      "  [[  3.     3.     3.  ]\n",
      "   [  3.     3.     3.  ]\n",
      "   [  3.     3.     3.  ]\n",
      "   ...\n",
      "   [  3.     3.     3.  ]\n",
      "   [  3.     3.     3.  ]\n",
      "   [  3.     3.     3.  ]]\n",
      "\n",
      "  ...\n",
      "\n",
      "  [[  3.     3.     3.  ]\n",
      "   [  3.     3.     3.  ]\n",
      "   [  3.     3.     3.  ]\n",
      "   ...\n",
      "   [108.75 135.    86.25]\n",
      "   [111.25 138.    87.75]\n",
      "   [106.25 133.    82.25]]\n",
      "\n",
      "  [[  3.     3.     3.  ]\n",
      "   [  3.     3.     3.  ]\n",
      "   [  3.     3.     3.  ]\n",
      "   ...\n",
      "   [103.75 131.75  83.75]\n",
      "   [110.5  138.5   90.25]\n",
      "   [106.75 134.5   87.  ]]\n",
      "\n",
      "  [[  3.     3.     3.  ]\n",
      "   [  3.     3.     3.  ]\n",
      "   [  3.     3.     3.  ]\n",
      "   ...\n",
      "   [ 99.   128.    82.  ]\n",
      "   [107.75 136.75  91.75]\n",
      "   [109.75 138.75  94.25]]]], shape=(32, 128, 128, 3), dtype=float32) (32, 128, 128, 3)\n",
      "tf.Tensor(\n",
      "[[0. 0. 0. ... 0. 0. 0.]\n",
      " [0. 0. 0. ... 0. 0. 0.]\n",
      " [0. 0. 0. ... 0. 0. 0.]\n",
      " ...\n",
      " [0. 0. 0. ... 0. 0. 0.]\n",
      " [0. 0. 0. ... 0. 0. 0.]\n",
      " [0. 0. 0. ... 0. 0. 0.]], shape=(32, 38), dtype=float32) (32, 38)\n"
     ]
    }
   ],
   "source": [
    "for x,y in training_set:\n",
    "    print(x, x.shape) #x content\n",
    "    print(y, y.shape) #y content\n",
    "    break"
   ]
  },
  {
   "cell_type": "code",
   "execution_count": 10,
   "metadata": {},
   "outputs": [],
   "source": [
    "##Building Model"
   ]
  },
  {
   "cell_type": "code",
   "execution_count": 11,
   "metadata": {},
   "outputs": [],
   "source": [
    "cnn = tf.keras.Sequential() # allows you to build a neural network by stacking layers sequentially, one after another"
   ]
  },
  {
   "cell_type": "code",
   "execution_count": 12,
   "metadata": {},
   "outputs": [],
   "source": [
    "##Building Convolutional Layer1\n",
    "cnn.add(tf.keras.layers.Input(shape=[128, 128, 3]))\n",
    "\n",
    "# Add the rest of the layers\n",
    "cnn.add(tf.keras.layers.Conv2D(filters=32, kernel_size=3, padding='same', activation='relu'))\n",
    "cnn.add(tf.keras.layers.Conv2D(filters=32, kernel_size=3, activation='relu'))\n",
    "cnn.add(tf.keras.layers.MaxPool2D(pool_size=2, strides=2))"
   ]
  },
  {
   "cell_type": "code",
   "execution_count": 13,
   "metadata": {},
   "outputs": [],
   "source": [
    "cnn.add(tf.keras.layers.Conv2D(filters=64,kernel_size=3,padding='same',activation='relu'))\n",
    "cnn.add(tf.keras.layers.Conv2D(filters=64,kernel_size=3,activation='relu'))\n",
    "cnn.add(tf.keras.layers.MaxPool2D(pool_size=2,strides=2))"
   ]
  },
  {
   "cell_type": "code",
   "execution_count": 14,
   "metadata": {},
   "outputs": [],
   "source": [
    "cnn.add(tf.keras.layers.Conv2D(filters=128,kernel_size=3,padding='same',activation='relu'))\n",
    "cnn.add(tf.keras.layers.Conv2D(filters=128,kernel_size=3,activation='relu'))\n",
    "cnn.add(tf.keras.layers.MaxPool2D(pool_size=2,strides=2))"
   ]
  },
  {
   "cell_type": "code",
   "execution_count": 15,
   "metadata": {},
   "outputs": [],
   "source": [
    "cnn.add(tf.keras.layers.Conv2D(filters=256,kernel_size=3,padding='same',activation='relu'))\n",
    "cnn.add(tf.keras.layers.Conv2D(filters=256,kernel_size=3,activation='relu'))\n",
    "cnn.add(tf.keras.layers.MaxPool2D(pool_size=2,strides=2))"
   ]
  },
  {
   "cell_type": "code",
   "execution_count": 16,
   "metadata": {},
   "outputs": [],
   "source": [
    "cnn.add(tf.keras.layers.Conv2D(filters=512,kernel_size=3,padding='same',activation='relu'))\n",
    "cnn.add(tf.keras.layers.Conv2D(filters=512,kernel_size=3,activation='relu'))\n",
    "cnn.add(tf.keras.layers.MaxPool2D(pool_size=2,strides=2))"
   ]
  },
  {
   "cell_type": "code",
   "execution_count": 17,
   "metadata": {},
   "outputs": [],
   "source": [
    "cnn.add(tf.keras.layers.Dropout(0.25)) #cut layers 25% for reduse overfitting"
   ]
  },
  {
   "cell_type": "code",
   "execution_count": 18,
   "metadata": {},
   "outputs": [],
   "source": [
    "cnn.add(tf.keras.layers.Flatten()) #2D - 1D"
   ]
  },
  {
   "cell_type": "code",
   "execution_count": 19,
   "metadata": {},
   "outputs": [],
   "source": [
    "cnn.add(tf.keras.layers.Dense(units=1500,activation='relu'))"
   ]
  },
  {
   "cell_type": "code",
   "execution_count": 20,
   "metadata": {},
   "outputs": [],
   "source": [
    "cnn.add(tf.keras.layers.Dropout(0.4))"
   ]
  },
  {
   "cell_type": "code",
   "execution_count": 21,
   "metadata": {},
   "outputs": [],
   "source": [
    "#output layer\n",
    "cnn.add(tf.keras.layers.Dense(units=38,activation='softmax'))"
   ]
  },
  {
   "cell_type": "code",
   "execution_count": null,
   "metadata": {},
   "outputs": [],
   "source": [
    "#compiling model\n",
    "cnn.compile(optimizer=tf.keras.optimizers.Adam(\n",
    "    learning_rate=0.0001),loss='categorical_crossentropy',metrics=['accuracy'])"
   ]
  },
  {
   "cell_type": "code",
   "execution_count": 23,
   "metadata": {
    "scrolled": true
   },
   "outputs": [
    {
     "name": "stdout",
     "output_type": "stream",
     "text": [
      "Model: \"sequential\"\n",
      "_________________________________________________________________\n",
      " Layer (type)                Output Shape              Param #   \n",
      "=================================================================\n",
      " conv2d (Conv2D)             (None, 128, 128, 32)      896       \n",
      "                                                                 \n",
      " conv2d_1 (Conv2D)           (None, 126, 126, 32)      9248      \n",
      "                                                                 \n",
      " max_pooling2d (MaxPooling2  (None, 63, 63, 32)        0         \n",
      " D)                                                              \n",
      "                                                                 \n",
      " conv2d_2 (Conv2D)           (None, 63, 63, 64)        18496     \n",
      "                                                                 \n",
      " conv2d_3 (Conv2D)           (None, 61, 61, 64)        36928     \n",
      "                                                                 \n",
      " max_pooling2d_1 (MaxPoolin  (None, 30, 30, 64)        0         \n",
      " g2D)                                                            \n",
      "                                                                 \n",
      " conv2d_4 (Conv2D)           (None, 30, 30, 128)       73856     \n",
      "                                                                 \n",
      " conv2d_5 (Conv2D)           (None, 28, 28, 128)       147584    \n",
      "                                                                 \n",
      " max_pooling2d_2 (MaxPoolin  (None, 14, 14, 128)       0         \n",
      " g2D)                                                            \n",
      "                                                                 \n",
      " conv2d_6 (Conv2D)           (None, 14, 14, 256)       295168    \n",
      "                                                                 \n",
      " conv2d_7 (Conv2D)           (None, 12, 12, 256)       590080    \n",
      "                                                                 \n",
      " max_pooling2d_3 (MaxPoolin  (None, 6, 6, 256)         0         \n",
      " g2D)                                                            \n",
      "                                                                 \n",
      " conv2d_8 (Conv2D)           (None, 6, 6, 512)         1180160   \n",
      "                                                                 \n",
      " conv2d_9 (Conv2D)           (None, 4, 4, 512)         2359808   \n",
      "                                                                 \n",
      " max_pooling2d_4 (MaxPoolin  (None, 2, 2, 512)         0         \n",
      " g2D)                                                            \n",
      "                                                                 \n",
      " dropout (Dropout)           (None, 2, 2, 512)         0         \n",
      "                                                                 \n",
      " flatten (Flatten)           (None, 2048)              0         \n",
      "                                                                 \n",
      " dense (Dense)               (None, 1500)              3073500   \n",
      "                                                                 \n",
      " dropout_1 (Dropout)         (None, 1500)              0         \n",
      "                                                                 \n",
      " dense_1 (Dense)             (None, 38)                57038     \n",
      "                                                                 \n",
      "=================================================================\n",
      "Total params: 7842762 (29.92 MB)\n",
      "Trainable params: 7842762 (29.92 MB)\n",
      "Non-trainable params: 0 (0.00 Byte)\n",
      "_________________________________________________________________\n"
     ]
    }
   ],
   "source": [
    "cnn.summary()"
   ]
  },
  {
   "cell_type": "code",
   "execution_count": 24,
   "metadata": {},
   "outputs": [
    {
     "name": "stdout",
     "output_type": "stream",
     "text": [
      "Epoch 1/10\n",
      "2197/2197 [==============================] - 6627s 3s/step - loss: 1.4425 - accuracy: 0.5757 - val_loss: 0.6670 - val_accuracy: 0.7846\n",
      "Epoch 2/10\n",
      "2197/2197 [==============================] - 4151s 2s/step - loss: 0.4535 - accuracy: 0.8545 - val_loss: 0.3193 - val_accuracy: 0.8981\n",
      "Epoch 3/10\n",
      "2197/2197 [==============================] - 2842s 1s/step - loss: 0.2749 - accuracy: 0.9114 - val_loss: 0.2201 - val_accuracy: 0.9303\n",
      "Epoch 4/10\n",
      "2197/2197 [==============================] - 2797s 1s/step - loss: 0.1960 - accuracy: 0.9365 - val_loss: 0.1958 - val_accuracy: 0.9367\n",
      "Epoch 5/10\n",
      "2197/2197 [==============================] - 4108s 2s/step - loss: 0.1398 - accuracy: 0.9529 - val_loss: 0.1542 - val_accuracy: 0.9525\n",
      "Epoch 6/10\n",
      "2197/2197 [==============================] - 4854s 2s/step - loss: 0.1117 - accuracy: 0.9633 - val_loss: 0.1359 - val_accuracy: 0.9558\n",
      "Epoch 7/10\n",
      "2197/2197 [==============================] - 2713s 1s/step - loss: 0.0919 - accuracy: 0.9700 - val_loss: 0.1341 - val_accuracy: 0.9586\n",
      "Epoch 8/10\n",
      "2197/2197 [==============================] - 7410s 3s/step - loss: 0.0761 - accuracy: 0.9752 - val_loss: 0.1611 - val_accuracy: 0.9532\n",
      "Epoch 9/10\n",
      "2197/2197 [==============================] - 4049s 2s/step - loss: 0.0657 - accuracy: 0.9794 - val_loss: 0.1033 - val_accuracy: 0.9690\n",
      "Epoch 10/10\n",
      "2197/2197 [==============================] - 2745s 1s/step - loss: 0.0573 - accuracy: 0.9816 - val_loss: 0.1472 - val_accuracy: 0.9572\n"
     ]
    }
   ],
   "source": [
    "#model training\n",
    "training_history = cnn.fit(x=training_set,validation_data=validation_set,epochs=10)"
   ]
  },
  {
   "cell_type": "code",
   "execution_count": 25,
   "metadata": {
    "slideshow": {
     "slide_type": ""
    },
    "tags": []
   },
   "outputs": [],
   "source": [
    "#model evaluvation"
   ]
  },
  {
   "cell_type": "code",
   "execution_count": 26,
   "metadata": {},
   "outputs": [
    {
     "name": "stdout",
     "output_type": "stream",
     "text": [
      "2197/2197 [==============================] - 573s 261ms/step - loss: 0.0475 - accuracy: 0.9847\n"
     ]
    }
   ],
   "source": [
    "train_loss,train_acc = cnn.evaluate(training_set)"
   ]
  },
  {
   "cell_type": "code",
   "execution_count": 27,
   "metadata": {},
   "outputs": [
    {
     "name": "stdout",
     "output_type": "stream",
     "text": [
      "0.04752376303076744 0.9846790432929993\n"
     ]
    }
   ],
   "source": [
    "print(train_loss,train_acc)"
   ]
  },
  {
   "cell_type": "code",
   "execution_count": 28,
   "metadata": {},
   "outputs": [
    {
     "name": "stdout",
     "output_type": "stream",
     "text": [
      "550/550 [==============================] - 90s 163ms/step - loss: 0.1472 - accuracy: 0.9572\n"
     ]
    }
   ],
   "source": [
    "val_loss,val_acc = cnn.evaluate(validation_set)"
   ]
  },
  {
   "cell_type": "code",
   "execution_count": 29,
   "metadata": {},
   "outputs": [
    {
     "name": "stdout",
     "output_type": "stream",
     "text": [
      "0.14719438552856445 0.9572046399116516\n"
     ]
    }
   ],
   "source": [
    "print(val_loss,val_acc)"
   ]
  },
  {
   "cell_type": "code",
   "execution_count": 30,
   "metadata": {},
   "outputs": [],
   "source": [
    "cnn.save(\"trained_model.keras\")"
   ]
  },
  {
   "cell_type": "code",
   "execution_count": 31,
   "metadata": {},
   "outputs": [
    {
     "data": {
      "text/plain": [
       "{'loss': [1.4425272941589355,\n",
       "  0.4535423815250397,\n",
       "  0.27488407492637634,\n",
       "  0.19602374732494354,\n",
       "  0.13980130851268768,\n",
       "  0.11174269020557404,\n",
       "  0.09194829314947128,\n",
       "  0.076084665954113,\n",
       "  0.06565535813570023,\n",
       "  0.057322289794683456],\n",
       " 'accuracy': [0.5757084488868713,\n",
       "  0.854500949382782,\n",
       "  0.9114459156990051,\n",
       "  0.9364544153213501,\n",
       "  0.9528849720954895,\n",
       "  0.9633265137672424,\n",
       "  0.9699556231498718,\n",
       "  0.9752190709114075,\n",
       "  0.9794440865516663,\n",
       "  0.9816490411758423],\n",
       " 'val_loss': [0.666997492313385,\n",
       "  0.31925785541534424,\n",
       "  0.22011473774909973,\n",
       "  0.1958351731300354,\n",
       "  0.15418080985546112,\n",
       "  0.13591255247592926,\n",
       "  0.134102001786232,\n",
       "  0.1611059159040451,\n",
       "  0.10330893844366074,\n",
       "  0.14719431102275848],\n",
       " 'val_accuracy': [0.7846004962921143,\n",
       "  0.8980764746665955,\n",
       "  0.9302868247032166,\n",
       "  0.9367175102233887,\n",
       "  0.9525381326675415,\n",
       "  0.9558388590812683,\n",
       "  0.9586273431777954,\n",
       "  0.9532210230827332,\n",
       "  0.969041645526886,\n",
       "  0.9572046399116516]}"
      ]
     },
     "execution_count": 31,
     "metadata": {},
     "output_type": "execute_result"
    }
   ],
   "source": [
    "training_history.history"
   ]
  },
  {
   "cell_type": "code",
   "execution_count": 32,
   "metadata": {},
   "outputs": [],
   "source": [
    "#Recording History\n",
    "import json\n",
    "with open(\"training_hist.json\",\"w\") as f:\n",
    "    json.dump(training_history.history , f)"
   ]
  },
  {
   "cell_type": "code",
   "execution_count": 33,
   "metadata": {},
   "outputs": [
    {
     "data": {
      "image/png": "[encoded data removed]",
      "text/plain": [
       "<Figure size 640x480 with 1 Axes>"
      ]
     },
     "metadata": {},
     "output_type": "display_data"
    }
   ],
   "source": [
    "epochs = [i for i in range(1,11)]\n",
    "plt.plot(epochs,training_history.history['accuracy'],color='red',label='Training Accuracy')\n",
    "plt.plot(epochs,training_history.history['val_accuracy'],color='blue',label='validation Accuracy')\n",
    "plt.xlabel(\"No of Epochs\")\n",
    "plt.ylabel(\"Result\")\n",
    "plt.title(\"Visulization\")\n",
    "plt.legend()\n",
    "plt.show()"
   ]
  },
  {
   "cell_type": "code",
   "execution_count": null,
   "metadata": {},
   "outputs": [],
   "source": []
  },
  {
   "cell_type": "code",
   "execution_count": null,
   "metadata": {},
   "outputs": [],
   "source": []
  },
  {
   "cell_type": "code",
   "execution_count": null,
   "metadata": {},
   "outputs": [],
   "source": []
  }
 ],
 "metadata": {
  "colab": {
   "provenance": []
  },
  "kernelspec": {
   "display_name": "Python 3",
   "language": "python",
   "name": "python3"
  },
  "language_info": {
   "codemirror_mode": {
    "name": "ipython",
    "version": 3
   },
   "file_extension": ".py",
   "mimetype": "text/x-python",
   "name": "python",
   "nbconvert_exporter": "python",
   "pygments_lexer": "ipython3",
   "version": "3.10.7"
  },
  "widgets": {
   "application/vnd.jupyter.widget-state+json": {
    "state": {},
    "version_major": 2,
    "version_minor": 0
   }
  }
 },
 "nbformat": 4,
 "nbformat_minor": 4
}
